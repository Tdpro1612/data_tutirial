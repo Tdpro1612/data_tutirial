{
  "nbformat": 4,
  "nbformat_minor": 0,
  "metadata": {
    "colab": {
      "name": "code_for_clean_and_visualization_ 25gb.ipynb",
      "provenance": [],
      "collapsed_sections": [],
      "machine_shape": "hm"
    },
    "language_info": {
      "name": "python",
      "version": "3.6.4",
      "mimetype": "text/x-python",
      "codemirror_mode": {
        "name": "ipython",
        "version": 3
      },
      "pygments_lexer": "ipython3",
      "nbconvert_exporter": "python",
      "file_extension": ".py"
    },
    "kernelspec": {
      "name": "python3",
      "display_name": "Python 3"
    }
  },
  "cells": [
    {
      "cell_type": "markdown",
      "metadata": {
        "id": "PJLAgBbWQYGv"
      },
      "source": [
        "### import libraries"
      ]
    },
    {
      "cell_type": "code",
      "metadata": {
        "id": "xe7ojHcvuLtF"
      },
      "source": [
        "import os\n",
        "import numpy as np\n",
        "import pandas as pd\n",
        "import json as js\n",
        "import seaborn as sns\n",
        "import matplotlib.pyplot as plt"
      ],
      "execution_count": 1,
      "outputs": []
    },
    {
      "cell_type": "code",
      "metadata": {
        "colab": {
          "base_uri": "https://localhost:8080/"
        },
        "id": "Y4cOoShKucUF",
        "outputId": "bf2e3569-1466-4f3a-c1fc-4e499fd1cf29"
      },
      "source": [
        "from google.colab import drive\n",
        "drive.mount(\"/content/drive\")"
      ],
      "execution_count": 2,
      "outputs": [
        {
          "output_type": "stream",
          "name": "stdout",
          "text": [
            "Mounted at /content/drive\n"
          ]
        }
      ]
    },
    {
      "cell_type": "markdown",
      "metadata": {
        "id": "P_BHUZoQQkuH"
      },
      "source": [
        "### import dataset"
      ]
    },
    {
      "cell_type": "code",
      "metadata": {
        "colab": {
          "base_uri": "https://localhost:8080/"
        },
        "id": "nf_MpogvvwPE",
        "outputId": "2c0d27be-f022-4c63-e7d0-cc4dd8fbcfca"
      },
      "source": [
        "file_name = \"/content/kaggle.json\"\n",
        "with open(file_name, 'r') as f:\n",
        "    document =  js.loads(f.read())\n",
        "    \n",
        "print(document)\n",
        "#{'key': 'c00046e4b093c67705ca6d402f00aa31', 'username': 'nguynnguynkhoa'}\n",
        "\n",
        "os.environ['KAGGLE_USERNAME'] = document['username']\n",
        "os.environ['KAGGLE_KEY'] = document['key']\n",
        "\n",
        "#get API"
      ],
      "execution_count": 3,
      "outputs": [
        {
          "output_type": "stream",
          "name": "stdout",
          "text": [
            "{'username': 'nguynnguynkhoa', 'key': '86d54991913d6b87880d297405c8173e'}\n"
          ]
        }
      ]
    },
    {
      "cell_type": "code",
      "metadata": {
        "colab": {
          "base_uri": "https://localhost:8080/"
        },
        "id": "LzQwL1TnvoGX",
        "outputId": "69995c52-3d91-4cd7-ad4f-701a8f38b3dd"
      },
      "source": [
        "!kaggle datasets download -d uciml/adult-census-income"
      ],
      "execution_count": 4,
      "outputs": [
        {
          "output_type": "stream",
          "name": "stdout",
          "text": [
            "Downloading adult-census-income.zip to /content\n",
            "\r  0% 0.00/450k [00:00<?, ?B/s]\n",
            "\r100% 450k/450k [00:00<00:00, 66.9MB/s]\n"
          ]
        }
      ]
    },
    {
      "cell_type": "code",
      "metadata": {
        "colab": {
          "base_uri": "https://localhost:8080/"
        },
        "id": "tYpzTPcwwPDp",
        "outputId": "041b3a58-90d4-4603-992b-39909204daed"
      },
      "source": [
        "!unzip /content/adult-census-income.zip"
      ],
      "execution_count": 5,
      "outputs": [
        {
          "output_type": "stream",
          "name": "stdout",
          "text": [
            "Archive:  /content/adult-census-income.zip\n",
            "  inflating: adult.csv               \n"
          ]
        }
      ]
    },
    {
      "cell_type": "code",
      "metadata": {
        "id": "dVC8-S-lwhBN"
      },
      "source": [
        "df = pd.read_csv(\"/content/adult.csv\")"
      ],
      "execution_count": 6,
      "outputs": []
    },
    {
      "cell_type": "markdown",
      "metadata": {
        "id": "5PfsbVl6QpNI"
      },
      "source": [
        "### Problem description"
      ]
    },
    {
      "cell_type": "code",
      "metadata": {
        "colab": {
          "base_uri": "https://localhost:8080/"
        },
        "id": "147y-dLHxFma",
        "outputId": "a7418843-2106-4d07-f7ac-f4a42daca946"
      },
      "source": [
        "df.info()"
      ],
      "execution_count": 7,
      "outputs": [
        {
          "output_type": "stream",
          "name": "stdout",
          "text": [
            "<class 'pandas.core.frame.DataFrame'>\n",
            "RangeIndex: 32561 entries, 0 to 32560\n",
            "Data columns (total 15 columns):\n",
            " #   Column          Non-Null Count  Dtype \n",
            "---  ------          --------------  ----- \n",
            " 0   age             32561 non-null  int64 \n",
            " 1   workclass       32561 non-null  object\n",
            " 2   fnlwgt          32561 non-null  int64 \n",
            " 3   education       32561 non-null  object\n",
            " 4   education.num   32561 non-null  int64 \n",
            " 5   marital.status  32561 non-null  object\n",
            " 6   occupation      32561 non-null  object\n",
            " 7   relationship    32561 non-null  object\n",
            " 8   race            32561 non-null  object\n",
            " 9   sex             32561 non-null  object\n",
            " 10  capital.gain    32561 non-null  int64 \n",
            " 11  capital.loss    32561 non-null  int64 \n",
            " 12  hours.per.week  32561 non-null  int64 \n",
            " 13  native.country  32561 non-null  object\n",
            " 14  income          32561 non-null  object\n",
            "dtypes: int64(6), object(9)\n",
            "memory usage: 3.7+ MB\n"
          ]
        }
      ]
    },
    {
      "cell_type": "code",
      "metadata": {
        "colab": {
          "base_uri": "https://localhost:8080/",
          "height": 204
        },
        "id": "wo8IaHKOBDD5",
        "outputId": "c630600e-a8ac-4af4-8457-df93fd6302bf"
      },
      "source": [
        "df.head()"
      ],
      "execution_count": 8,
      "outputs": [
        {
          "output_type": "execute_result",
          "data": {
            "text/html": [
              "<div>\n",
              "<style scoped>\n",
              "    .dataframe tbody tr th:only-of-type {\n",
              "        vertical-align: middle;\n",
              "    }\n",
              "\n",
              "    .dataframe tbody tr th {\n",
              "        vertical-align: top;\n",
              "    }\n",
              "\n",
              "    .dataframe thead th {\n",
              "        text-align: right;\n",
              "    }\n",
              "</style>\n",
              "<table border=\"1\" class=\"dataframe\">\n",
              "  <thead>\n",
              "    <tr style=\"text-align: right;\">\n",
              "      <th></th>\n",
              "      <th>age</th>\n",
              "      <th>workclass</th>\n",
              "      <th>fnlwgt</th>\n",
              "      <th>education</th>\n",
              "      <th>education.num</th>\n",
              "      <th>marital.status</th>\n",
              "      <th>occupation</th>\n",
              "      <th>relationship</th>\n",
              "      <th>race</th>\n",
              "      <th>sex</th>\n",
              "      <th>capital.gain</th>\n",
              "      <th>capital.loss</th>\n",
              "      <th>hours.per.week</th>\n",
              "      <th>native.country</th>\n",
              "      <th>income</th>\n",
              "    </tr>\n",
              "  </thead>\n",
              "  <tbody>\n",
              "    <tr>\n",
              "      <th>0</th>\n",
              "      <td>90</td>\n",
              "      <td>?</td>\n",
              "      <td>77053</td>\n",
              "      <td>HS-grad</td>\n",
              "      <td>9</td>\n",
              "      <td>Widowed</td>\n",
              "      <td>?</td>\n",
              "      <td>Not-in-family</td>\n",
              "      <td>White</td>\n",
              "      <td>Female</td>\n",
              "      <td>0</td>\n",
              "      <td>4356</td>\n",
              "      <td>40</td>\n",
              "      <td>United-States</td>\n",
              "      <td>&lt;=50K</td>\n",
              "    </tr>\n",
              "    <tr>\n",
              "      <th>1</th>\n",
              "      <td>82</td>\n",
              "      <td>Private</td>\n",
              "      <td>132870</td>\n",
              "      <td>HS-grad</td>\n",
              "      <td>9</td>\n",
              "      <td>Widowed</td>\n",
              "      <td>Exec-managerial</td>\n",
              "      <td>Not-in-family</td>\n",
              "      <td>White</td>\n",
              "      <td>Female</td>\n",
              "      <td>0</td>\n",
              "      <td>4356</td>\n",
              "      <td>18</td>\n",
              "      <td>United-States</td>\n",
              "      <td>&lt;=50K</td>\n",
              "    </tr>\n",
              "    <tr>\n",
              "      <th>2</th>\n",
              "      <td>66</td>\n",
              "      <td>?</td>\n",
              "      <td>186061</td>\n",
              "      <td>Some-college</td>\n",
              "      <td>10</td>\n",
              "      <td>Widowed</td>\n",
              "      <td>?</td>\n",
              "      <td>Unmarried</td>\n",
              "      <td>Black</td>\n",
              "      <td>Female</td>\n",
              "      <td>0</td>\n",
              "      <td>4356</td>\n",
              "      <td>40</td>\n",
              "      <td>United-States</td>\n",
              "      <td>&lt;=50K</td>\n",
              "    </tr>\n",
              "    <tr>\n",
              "      <th>3</th>\n",
              "      <td>54</td>\n",
              "      <td>Private</td>\n",
              "      <td>140359</td>\n",
              "      <td>7th-8th</td>\n",
              "      <td>4</td>\n",
              "      <td>Divorced</td>\n",
              "      <td>Machine-op-inspct</td>\n",
              "      <td>Unmarried</td>\n",
              "      <td>White</td>\n",
              "      <td>Female</td>\n",
              "      <td>0</td>\n",
              "      <td>3900</td>\n",
              "      <td>40</td>\n",
              "      <td>United-States</td>\n",
              "      <td>&lt;=50K</td>\n",
              "    </tr>\n",
              "    <tr>\n",
              "      <th>4</th>\n",
              "      <td>41</td>\n",
              "      <td>Private</td>\n",
              "      <td>264663</td>\n",
              "      <td>Some-college</td>\n",
              "      <td>10</td>\n",
              "      <td>Separated</td>\n",
              "      <td>Prof-specialty</td>\n",
              "      <td>Own-child</td>\n",
              "      <td>White</td>\n",
              "      <td>Female</td>\n",
              "      <td>0</td>\n",
              "      <td>3900</td>\n",
              "      <td>40</td>\n",
              "      <td>United-States</td>\n",
              "      <td>&lt;=50K</td>\n",
              "    </tr>\n",
              "  </tbody>\n",
              "</table>\n",
              "</div>"
            ],
            "text/plain": [
              "   age workclass  fnlwgt  ... hours.per.week  native.country income\n",
              "0   90         ?   77053  ...             40   United-States  <=50K\n",
              "1   82   Private  132870  ...             18   United-States  <=50K\n",
              "2   66         ?  186061  ...             40   United-States  <=50K\n",
              "3   54   Private  140359  ...             40   United-States  <=50K\n",
              "4   41   Private  264663  ...             40   United-States  <=50K\n",
              "\n",
              "[5 rows x 15 columns]"
            ]
          },
          "metadata": {},
          "execution_count": 8
        }
      ]
    },
    {
      "cell_type": "code",
      "metadata": {
        "colab": {
          "base_uri": "https://localhost:8080/"
        },
        "id": "4sTcBD7uAifp",
        "outputId": "345e553f-1dad-4084-fe83-09ddcd615cbf"
      },
      "source": [
        "df['workclass'].value_counts()"
      ],
      "execution_count": 9,
      "outputs": [
        {
          "output_type": "execute_result",
          "data": {
            "text/plain": [
              "Private             22696\n",
              "Self-emp-not-inc     2541\n",
              "Local-gov            2093\n",
              "?                    1836\n",
              "State-gov            1298\n",
              "Self-emp-inc         1116\n",
              "Federal-gov           960\n",
              "Without-pay            14\n",
              "Never-worked            7\n",
              "Name: workclass, dtype: int64"
            ]
          },
          "metadata": {},
          "execution_count": 9
        }
      ]
    },
    {
      "cell_type": "code",
      "metadata": {
        "id": "O56PTQmIxeIZ",
        "colab": {
          "base_uri": "https://localhost:8080/"
        },
        "outputId": "f27da6b8-fcf3-40a1-e61e-5919da8af72f"
      },
      "source": [
        "df['education'].value_counts()"
      ],
      "execution_count": 10,
      "outputs": [
        {
          "output_type": "execute_result",
          "data": {
            "text/plain": [
              "HS-grad         10501\n",
              "Some-college     7291\n",
              "Bachelors        5355\n",
              "Masters          1723\n",
              "Assoc-voc        1382\n",
              "11th             1175\n",
              "Assoc-acdm       1067\n",
              "10th              933\n",
              "7th-8th           646\n",
              "Prof-school       576\n",
              "9th               514\n",
              "12th              433\n",
              "Doctorate         413\n",
              "5th-6th           333\n",
              "1st-4th           168\n",
              "Preschool          51\n",
              "Name: education, dtype: int64"
            ]
          },
          "metadata": {},
          "execution_count": 10
        }
      ]
    },
    {
      "cell_type": "code",
      "metadata": {
        "colab": {
          "base_uri": "https://localhost:8080/"
        },
        "id": "JsXOV9pbK5us",
        "outputId": "7f098013-bc60-4ff9-cd65-c48a7a4d682e"
      },
      "source": [
        "df['marital.status'].value_counts()"
      ],
      "execution_count": 11,
      "outputs": [
        {
          "output_type": "execute_result",
          "data": {
            "text/plain": [
              "Married-civ-spouse       14976\n",
              "Never-married            10683\n",
              "Divorced                  4443\n",
              "Separated                 1025\n",
              "Widowed                    993\n",
              "Married-spouse-absent      418\n",
              "Married-AF-spouse           23\n",
              "Name: marital.status, dtype: int64"
            ]
          },
          "metadata": {},
          "execution_count": 11
        }
      ]
    },
    {
      "cell_type": "code",
      "metadata": {
        "colab": {
          "base_uri": "https://localhost:8080/"
        },
        "id": "IFmVI8jyLFer",
        "outputId": "8d48e54b-fa8d-4d1e-db1b-632bbd216b55"
      },
      "source": [
        "df['occupation'].value_counts()"
      ],
      "execution_count": 13,
      "outputs": [
        {
          "output_type": "execute_result",
          "data": {
            "text/plain": [
              "Prof-specialty       4140\n",
              "Craft-repair         4099\n",
              "Exec-managerial      4066\n",
              "Adm-clerical         3770\n",
              "Sales                3650\n",
              "Other-service        3295\n",
              "Machine-op-inspct    2002\n",
              "?                    1843\n",
              "Transport-moving     1597\n",
              "Handlers-cleaners    1370\n",
              "Farming-fishing       994\n",
              "Tech-support          928\n",
              "Protective-serv       649\n",
              "Priv-house-serv       149\n",
              "Armed-Forces            9\n",
              "Name: occupation, dtype: int64"
            ]
          },
          "metadata": {},
          "execution_count": 13
        }
      ]
    },
    {
      "cell_type": "code",
      "metadata": {
        "colab": {
          "base_uri": "https://localhost:8080/"
        },
        "id": "4DPHglZOLRdv",
        "outputId": "bb1b60bc-fd60-4e9d-bae5-2d90c097d059"
      },
      "source": [
        "df['relationship'].value_counts()"
      ],
      "execution_count": 12,
      "outputs": [
        {
          "output_type": "execute_result",
          "data": {
            "text/plain": [
              "Husband           13193\n",
              "Not-in-family      8305\n",
              "Own-child          5068\n",
              "Unmarried          3446\n",
              "Wife               1568\n",
              "Other-relative      981\n",
              "Name: relationship, dtype: int64"
            ]
          },
          "metadata": {},
          "execution_count": 12
        }
      ]
    },
    {
      "cell_type": "code",
      "metadata": {
        "colab": {
          "base_uri": "https://localhost:8080/"
        },
        "id": "iV47jS7jLZdd",
        "outputId": "734ed609-b351-486a-d14f-fd9f7c145148"
      },
      "source": [
        "df['race'].value_counts()"
      ],
      "execution_count": 14,
      "outputs": [
        {
          "output_type": "execute_result",
          "data": {
            "text/plain": [
              "White                 27816\n",
              "Black                  3124\n",
              "Asian-Pac-Islander     1039\n",
              "Amer-Indian-Eskimo      311\n",
              "Other                   271\n",
              "Name: race, dtype: int64"
            ]
          },
          "metadata": {},
          "execution_count": 14
        }
      ]
    },
    {
      "cell_type": "code",
      "metadata": {
        "colab": {
          "base_uri": "https://localhost:8080/"
        },
        "id": "eRDquW_DLeCx",
        "outputId": "55f9f023-49e6-460c-d7e4-1ec78adbd030"
      },
      "source": [
        "df['sex'].value_counts()"
      ],
      "execution_count": 15,
      "outputs": [
        {
          "output_type": "execute_result",
          "data": {
            "text/plain": [
              "Male      21790\n",
              "Female    10771\n",
              "Name: sex, dtype: int64"
            ]
          },
          "metadata": {},
          "execution_count": 15
        }
      ]
    },
    {
      "cell_type": "code",
      "metadata": {
        "colab": {
          "base_uri": "https://localhost:8080/"
        },
        "id": "brpjtdNCM2lf",
        "outputId": "a2392f5d-1780-47f3-c26a-61a69c019482"
      },
      "source": [
        "df['native.country'].value_counts().head(6)"
      ],
      "execution_count": 16,
      "outputs": [
        {
          "output_type": "execute_result",
          "data": {
            "text/plain": [
              "United-States    29170\n",
              "Mexico             643\n",
              "?                  583\n",
              "Philippines        198\n",
              "Germany            137\n",
              "Canada             121\n",
              "Name: native.country, dtype: int64"
            ]
          },
          "metadata": {},
          "execution_count": 16
        }
      ]
    },
    {
      "cell_type": "code",
      "metadata": {
        "colab": {
          "base_uri": "https://localhost:8080/"
        },
        "id": "W_7bp5sSLwcm",
        "outputId": "770e1ffc-7d8f-46c7-c13f-4bedb65c8250"
      },
      "source": [
        "df['income'].value_counts()"
      ],
      "execution_count": 18,
      "outputs": [
        {
          "output_type": "execute_result",
          "data": {
            "text/plain": [
              "<=50K    24720\n",
              ">50K      7841\n",
              "Name: income, dtype: int64"
            ]
          },
          "metadata": {},
          "execution_count": 18
        }
      ]
    },
    {
      "cell_type": "code",
      "metadata": {
        "colab": {
          "base_uri": "https://localhost:8080/",
          "height": 235
        },
        "id": "gCCCt54gxKUw",
        "outputId": "2c79f448-d710-48f5-8969-144c007369b7"
      },
      "source": [
        "# statistics summary\n",
        "df.describe().T"
      ],
      "execution_count": 19,
      "outputs": [
        {
          "output_type": "execute_result",
          "data": {
            "text/html": [
              "<div>\n",
              "<style scoped>\n",
              "    .dataframe tbody tr th:only-of-type {\n",
              "        vertical-align: middle;\n",
              "    }\n",
              "\n",
              "    .dataframe tbody tr th {\n",
              "        vertical-align: top;\n",
              "    }\n",
              "\n",
              "    .dataframe thead th {\n",
              "        text-align: right;\n",
              "    }\n",
              "</style>\n",
              "<table border=\"1\" class=\"dataframe\">\n",
              "  <thead>\n",
              "    <tr style=\"text-align: right;\">\n",
              "      <th></th>\n",
              "      <th>count</th>\n",
              "      <th>mean</th>\n",
              "      <th>std</th>\n",
              "      <th>min</th>\n",
              "      <th>25%</th>\n",
              "      <th>50%</th>\n",
              "      <th>75%</th>\n",
              "      <th>max</th>\n",
              "    </tr>\n",
              "  </thead>\n",
              "  <tbody>\n",
              "    <tr>\n",
              "      <th>age</th>\n",
              "      <td>32561.0</td>\n",
              "      <td>38.581647</td>\n",
              "      <td>13.640433</td>\n",
              "      <td>17.0</td>\n",
              "      <td>28.0</td>\n",
              "      <td>37.0</td>\n",
              "      <td>48.0</td>\n",
              "      <td>90.0</td>\n",
              "    </tr>\n",
              "    <tr>\n",
              "      <th>fnlwgt</th>\n",
              "      <td>32561.0</td>\n",
              "      <td>189778.366512</td>\n",
              "      <td>105549.977697</td>\n",
              "      <td>12285.0</td>\n",
              "      <td>117827.0</td>\n",
              "      <td>178356.0</td>\n",
              "      <td>237051.0</td>\n",
              "      <td>1484705.0</td>\n",
              "    </tr>\n",
              "    <tr>\n",
              "      <th>education.num</th>\n",
              "      <td>32561.0</td>\n",
              "      <td>10.080679</td>\n",
              "      <td>2.572720</td>\n",
              "      <td>1.0</td>\n",
              "      <td>9.0</td>\n",
              "      <td>10.0</td>\n",
              "      <td>12.0</td>\n",
              "      <td>16.0</td>\n",
              "    </tr>\n",
              "    <tr>\n",
              "      <th>capital.gain</th>\n",
              "      <td>32561.0</td>\n",
              "      <td>1077.648844</td>\n",
              "      <td>7385.292085</td>\n",
              "      <td>0.0</td>\n",
              "      <td>0.0</td>\n",
              "      <td>0.0</td>\n",
              "      <td>0.0</td>\n",
              "      <td>99999.0</td>\n",
              "    </tr>\n",
              "    <tr>\n",
              "      <th>capital.loss</th>\n",
              "      <td>32561.0</td>\n",
              "      <td>87.303830</td>\n",
              "      <td>402.960219</td>\n",
              "      <td>0.0</td>\n",
              "      <td>0.0</td>\n",
              "      <td>0.0</td>\n",
              "      <td>0.0</td>\n",
              "      <td>4356.0</td>\n",
              "    </tr>\n",
              "    <tr>\n",
              "      <th>hours.per.week</th>\n",
              "      <td>32561.0</td>\n",
              "      <td>40.437456</td>\n",
              "      <td>12.347429</td>\n",
              "      <td>1.0</td>\n",
              "      <td>40.0</td>\n",
              "      <td>40.0</td>\n",
              "      <td>45.0</td>\n",
              "      <td>99.0</td>\n",
              "    </tr>\n",
              "  </tbody>\n",
              "</table>\n",
              "</div>"
            ],
            "text/plain": [
              "                  count           mean  ...       75%        max\n",
              "age             32561.0      38.581647  ...      48.0       90.0\n",
              "fnlwgt          32561.0  189778.366512  ...  237051.0  1484705.0\n",
              "education.num   32561.0      10.080679  ...      12.0       16.0\n",
              "capital.gain    32561.0    1077.648844  ...       0.0    99999.0\n",
              "capital.loss    32561.0      87.303830  ...       0.0     4356.0\n",
              "hours.per.week  32561.0      40.437456  ...      45.0       99.0\n",
              "\n",
              "[6 rows x 8 columns]"
            ]
          },
          "metadata": {},
          "execution_count": 19
        }
      ]
    },
    {
      "cell_type": "code",
      "metadata": {
        "colab": {
          "base_uri": "https://localhost:8080/"
        },
        "id": "kvV6RGVhNDFB",
        "outputId": "e802bfee-ab13-40a3-c219-78d20c6fe471"
      },
      "source": [
        "# check for '?' in dataset\n",
        "miss_value = df.isin(['?']).sum()\n",
        "miss_value"
      ],
      "execution_count": 20,
      "outputs": [
        {
          "output_type": "execute_result",
          "data": {
            "text/plain": [
              "age                  0\n",
              "workclass         1836\n",
              "fnlwgt               0\n",
              "education            0\n",
              "education.num        0\n",
              "marital.status       0\n",
              "occupation        1843\n",
              "relationship         0\n",
              "race                 0\n",
              "sex                  0\n",
              "capital.gain         0\n",
              "capital.loss         0\n",
              "hours.per.week       0\n",
              "native.country     583\n",
              "income               0\n",
              "dtype: int64"
            ]
          },
          "metadata": {},
          "execution_count": 20
        }
      ]
    },
    {
      "cell_type": "code",
      "metadata": {
        "colab": {
          "base_uri": "https://localhost:8080/"
        },
        "id": "AfhFobP_NcV-",
        "outputId": "9e6158f2-2437-4b28-d116-f00912725956"
      },
      "source": [
        "miss_value = miss_value/df.shape[0]*100\n",
        "miss_value"
      ],
      "execution_count": 21,
      "outputs": [
        {
          "output_type": "execute_result",
          "data": {
            "text/plain": [
              "age               0.000000\n",
              "workclass         5.638647\n",
              "fnlwgt            0.000000\n",
              "education         0.000000\n",
              "education.num     0.000000\n",
              "marital.status    0.000000\n",
              "occupation        5.660146\n",
              "relationship      0.000000\n",
              "race              0.000000\n",
              "sex               0.000000\n",
              "capital.gain      0.000000\n",
              "capital.loss      0.000000\n",
              "hours.per.week    0.000000\n",
              "native.country    1.790486\n",
              "income            0.000000\n",
              "dtype: float64"
            ]
          },
          "metadata": {},
          "execution_count": 21
        }
      ]
    },
    {
      "cell_type": "code",
      "metadata": {
        "colab": {
          "base_uri": "https://localhost:8080/"
        },
        "id": "UCYHF0IlNtRP",
        "outputId": "35e40dce-e19a-4b08-bde8-20bbc389825f"
      },
      "source": [
        "miss_value = miss_value.astype(str) + '%'\n",
        "miss_value"
      ],
      "execution_count": 22,
      "outputs": [
        {
          "output_type": "execute_result",
          "data": {
            "text/plain": [
              "age                              0.0%\n",
              "workclass          5.638647461687294%\n",
              "fnlwgt                           0.0%\n",
              "education                        0.0%\n",
              "education.num                    0.0%\n",
              "marital.status                   0.0%\n",
              "occupation         5.660145572924664%\n",
              "relationship                     0.0%\n",
              "race                             0.0%\n",
              "sex                              0.0%\n",
              "capital.gain                     0.0%\n",
              "capital.loss                     0.0%\n",
              "hours.per.week                   0.0%\n",
              "native.country    1.7904855501980899%\n",
              "income                           0.0%\n",
              "dtype: object"
            ]
          },
          "metadata": {},
          "execution_count": 22
        }
      ]
    },
    {
      "cell_type": "code",
      "metadata": {
        "colab": {
          "base_uri": "https://localhost:8080/"
        },
        "id": "wL6g6I4sOFst",
        "outputId": "9ae64f5d-afbd-4916-a617-f84b00bf988b"
      },
      "source": [
        "# checking % label \n",
        "income = df['income'].value_counts(normalize=True)\n",
        "income"
      ],
      "execution_count": 23,
      "outputs": [
        {
          "output_type": "execute_result",
          "data": {
            "text/plain": [
              "<=50K    0.75919\n",
              ">50K     0.24081\n",
              "Name: income, dtype: float64"
            ]
          },
          "metadata": {},
          "execution_count": 23
        }
      ]
    },
    {
      "cell_type": "code",
      "metadata": {
        "colab": {
          "base_uri": "https://localhost:8080/"
        },
        "id": "97RUrZJFOdHf",
        "outputId": "dacbab98-1594-4968-9884-e682c7144520"
      },
      "source": [
        "income = round(income*100,2).astype(str) + \"%\"\n",
        "income"
      ],
      "execution_count": 24,
      "outputs": [
        {
          "output_type": "execute_result",
          "data": {
            "text/plain": [
              "<=50K    75.92%\n",
              ">50K     24.08%\n",
              "Name: income, dtype: object"
            ]
          },
          "metadata": {},
          "execution_count": 24
        }
      ]
    },
    {
      "cell_type": "markdown",
      "metadata": {
        "id": "hLIkG8uLRfCA"
      },
      "source": [
        "observations"
      ]
    },
    {
      "cell_type": "code",
      "metadata": {
        "id": "4V9jrjXqOvBS"
      },
      "source": [
        "# the dataset doesn't have any null values,but it contains missing value in the form of \"?\" which need to be preprocessed\n",
        "# the data is unballanced,as the dependent feature \"income\" contains 75.92 % values have income less than 50K and 24.08 % values have income  more than 50K"
      ],
      "execution_count": 25,
      "outputs": []
    },
    {
      "cell_type": "markdown",
      "metadata": {
        "id": "agFBa78FP-kI"
      },
      "source": [
        "### the exploratory data analyst : Univariate analysis"
      ]
    },
    {
      "cell_type": "code",
      "metadata": {
        "id": "LG8gV7rrP7Ws",
        "colab": {
          "base_uri": "https://localhost:8080/",
          "height": 334
        },
        "outputId": "4cfe3221-1d21-42f6-d64f-3ecab4d0e299"
      },
      "source": [
        "# distribution plot for age\n",
        "age = df['age'].value_counts()\n",
        "plt.figure(figsize=(10,5))\n",
        "sns.histplot(df['age'],kde=True, stat=\"density\", linewidth=0 ,bins=20)\n",
        "plt.show()"
      ],
      "execution_count": 26,
      "outputs": [
        {
          "output_type": "display_data",
          "data": {
            "image/png": "[encoded data removed]",
            "text/plain": [
              "<Figure size 720x360 with 1 Axes>"
            ]
          },
          "metadata": {
            "needs_background": "light"
          }
        }
      ]
    },
    {
      "cell_type": "code",
      "metadata": {
        "colab": {
          "base_uri": "https://localhost:8080/",
          "height": 483
        },
        "id": "gpHQvUcTZVjP",
        "outputId": "3e806b71-18e2-4afe-e772-6255d6975276"
      },
      "source": [
        "# barplot for year of education\n",
        "y_of_edu = df['education.num'].value_counts()\n",
        "plt.figure(figsize=(15,8))\n",
        "sns.barplot(x=y_of_edu.index,y=y_of_edu.values)\n",
        "plt.show()"
      ],
      "execution_count": 27,
      "outputs": [
        {
          "output_type": "display_data",
          "data": {
            "image/png": "[encoded data removed]",
            "text/plain": [
              "<Figure size 1080x576 with 1 Axes>"
            ]
          },
          "metadata": {
            "needs_background": "light"
          }
        }
      ]
    },
    {
      "cell_type": "code",
      "metadata": {
        "colab": {
          "base_uri": "https://localhost:8080/",
          "height": 392
        },
        "id": "fzsNbOHmbbg8",
        "outputId": "6fa6cecb-8ac1-42ad-bf54-15be952f58d1"
      },
      "source": [
        "# Tree map for race distribution\n",
        "!pip install squarify\n",
        "import squarify as sq\n",
        "race = df['race'].value_counts()\n",
        "plt.figure(figsize=(7,5))\n",
        "sq.plot(sizes=race.values,label=race.index,value=race.values)\n",
        "plt.show()"
      ],
      "execution_count": 28,
      "outputs": [
        {
          "output_type": "stream",
          "name": "stdout",
          "text": [
            "Collecting squarify\n",
            "  Downloading squarify-0.4.3-py3-none-any.whl (4.3 kB)\n",
            "Installing collected packages: squarify\n",
            "Successfully installed squarify-0.4.3\n"
          ]
        },
        {
          "output_type": "display_data",
          "data": {
            "image/png": "[encoded data removed]",
            "text/plain": [
              "<Figure size 504x360 with 1 Axes>"
            ]
          },
          "metadata": {
            "needs_background": "light"
          }
        }
      ]
    },
    {
      "cell_type": "code",
      "metadata": {
        "id": "puYrRI52dKTZ",
        "colab": {
          "base_uri": "https://localhost:8080/",
          "height": 428
        },
        "outputId": "6be2996c-083e-44f5-80fe-d239ee81b781"
      },
      "source": [
        "#bar plot of house per week\n",
        "hours = df['hours.per.week'].value_counts().head(10)\n",
        "plt.figure(figsize=(15, 7))\n",
        "sns.barplot(x=hours.index, y=hours.values, palette='colorblind')\n",
        "plt.show()"
      ],
      "execution_count": 29,
      "outputs": [
        {
          "output_type": "display_data",
          "data": {
            "image/png": "[encoded data removed]",
            "text/plain": [
              "<Figure size 1080x504 with 1 Axes>"
            ]
          },
          "metadata": {
            "needs_background": "light"
          }
        }
      ]
    },
    {
      "cell_type": "code",
      "metadata": {
        "colab": {
          "base_uri": "https://localhost:8080/",
          "height": 619
        },
        "id": "pWgfhi6ZG-oK",
        "outputId": "5e53cf91-ef67-4cf5-8737-316d0e20e03c"
      },
      "source": [
        "# Creating a countplot of income across age\n",
        "plt.style.use('default')\n",
        "plt.figure(figsize=(20, 7))\n",
        "sns.countplot(x=df['age'], hue=df['income'])\n",
        "plt.show()"
      ],
      "execution_count": 30,
      "outputs": [
        {
          "output_type": "display_data",
          "data": {
            "image/png": "[encoded data removed]",
            "text/plain": [
              "<Figure size 2000x700 with 1 Axes>"
            ]
          },
          "metadata": {}
        }
      ]
    },
    {
      "cell_type": "code",
      "metadata": {
        "colab": {
          "base_uri": "https://localhost:8080/",
          "height": 465
        },
        "id": "f3G3OKC6HZKE",
        "outputId": "4db41227-1e37-4ca3-b538-a11de5b97fc1"
      },
      "source": [
        "# Creating a countplot of income across age\n",
        "plt.style.use('default')\n",
        "plt.figure(figsize=(17, 5))\n",
        "sns.countplot(x=df['education.num'], hue=df['income'])\n",
        "plt.show()"
      ],
      "execution_count": 31,
      "outputs": [
        {
          "output_type": "display_data",
          "data": {
            "image/png": "[encoded data removed]",
            "text/plain": [
              "<Figure size 1700x500 with 1 Axes>"
            ]
          },
          "metadata": {}
        }
      ]
    },
    {
      "cell_type": "code",
      "metadata": {
        "id": "TimhHZPUlJLY"
      },
      "source": [
        "from sklearn.preprocessing import LabelEncoder\n",
        "encoder = LabelEncoder()\n",
        "df['income'] = encoder.fit_transform(df['income'])"
      ],
      "execution_count": 32,
      "outputs": []
    },
    {
      "cell_type": "code",
      "metadata": {
        "id": "GVtBXbXSHymK",
        "colab": {
          "base_uri": "https://localhost:8080/",
          "height": 527
        },
        "outputId": "712f5fad-da03-464a-ef79-d460a8d69119"
      },
      "source": [
        "corr = df.corr()\n",
        "mask = np.zeros_like(corr)\n",
        "mask[np.triu_indices_from(mask)] = True\n",
        "ax = sns.heatmap(corr,cmap='RdYlGn', mask=mask, vmax=.3,annot=True)\n",
        "plt.show()"
      ],
      "execution_count": 33,
      "outputs": [
        {
          "output_type": "display_data",
          "data": {
            "image/png": "[encoded data removed]",
            "text/plain": [
              "<Figure size 640x480 with 2 Axes>"
            ]
          },
          "metadata": {}
        }
      ]
    },
    {
      "cell_type": "markdown",
      "metadata": {
        "id": "4wVhmITRk1We"
      },
      "source": [
        "# preprocessing data"
      ]
    },
    {
      "cell_type": "code",
      "metadata": {
        "id": "yjYpLYb-iAgD"
      },
      "source": [
        "# Fixing '?' values in the dataset\n",
        "df = df.replace('?', np.nan)\n",
        "nan_cols = [i for i in df.columns if df[i].isnull().any()]\n",
        "for col in nan_cols:\n",
        "  df[col].fillna(df[col].mode()[0], inplace=True)"
      ],
      "execution_count": 34,
      "outputs": []
    },
    {
      "cell_type": "code",
      "metadata": {
        "id": "LfoaW4vjiQNV"
      },
      "source": [
        "# Label Encoding\n",
        "from sklearn.preprocessing import LabelEncoder\n",
        "for col in df.columns:\n",
        "  if df[col].dtypes == 'object':\n",
        "    encoder = LabelEncoder()\n",
        "    df[col] = encoder.fit_transform(df[col])"
      ],
      "execution_count": 35,
      "outputs": []
    },
    {
      "cell_type": "code",
      "metadata": {
        "colab": {
          "base_uri": "https://localhost:8080/",
          "height": 774
        },
        "id": "ma4VP2brpGvf",
        "outputId": "56e91973-fb55-4076-bc87-d682509fb04e"
      },
      "source": [
        "corr = df.corr()\n",
        "mask = np.zeros_like(corr)\n",
        "mask[np.triu_indices_from(mask)] = True\n",
        "plt.style.use('default')\n",
        "plt.figure(figsize=(17, 8))\n",
        "ax = sns.heatmap(corr,cmap='RdYlGn', mask=mask, vmax=.3,annot=True)\n",
        "plt.show()"
      ],
      "execution_count": 37,
      "outputs": [
        {
          "output_type": "display_data",
          "data": {
            "image/png": "[encoded data removed]",
            "text/plain": [
              "<Figure size 1700x800 with 2 Axes>"
            ]
          },
          "metadata": {}
        }
      ]
    },
    {
      "cell_type": "code",
      "metadata": {
        "colab": {
          "base_uri": "https://localhost:8080/",
          "height": 204
        },
        "id": "ZJADYq2rppnC",
        "outputId": "84cbeb28-c899-460f-db28-a000971c9b6b"
      },
      "source": [
        "df = df[['age','education','education.num','race','sex','capital.gain','capital.loss','hours.per.week','income']]\n",
        "df.head()"
      ],
      "execution_count": 38,
      "outputs": [
        {
          "output_type": "execute_result",
          "data": {
            "text/html": [
              "<div>\n",
              "<style scoped>\n",
              "    .dataframe tbody tr th:only-of-type {\n",
              "        vertical-align: middle;\n",
              "    }\n",
              "\n",
              "    .dataframe tbody tr th {\n",
              "        vertical-align: top;\n",
              "    }\n",
              "\n",
              "    .dataframe thead th {\n",
              "        text-align: right;\n",
              "    }\n",
              "</style>\n",
              "<table border=\"1\" class=\"dataframe\">\n",
              "  <thead>\n",
              "    <tr style=\"text-align: right;\">\n",
              "      <th></th>\n",
              "      <th>age</th>\n",
              "      <th>education</th>\n",
              "      <th>education.num</th>\n",
              "      <th>race</th>\n",
              "      <th>sex</th>\n",
              "      <th>capital.gain</th>\n",
              "      <th>capital.loss</th>\n",
              "      <th>hours.per.week</th>\n",
              "      <th>income</th>\n",
              "    </tr>\n",
              "  </thead>\n",
              "  <tbody>\n",
              "    <tr>\n",
              "      <th>0</th>\n",
              "      <td>90</td>\n",
              "      <td>11</td>\n",
              "      <td>9</td>\n",
              "      <td>4</td>\n",
              "      <td>0</td>\n",
              "      <td>0</td>\n",
              "      <td>4356</td>\n",
              "      <td>40</td>\n",
              "      <td>0</td>\n",
              "    </tr>\n",
              "    <tr>\n",
              "      <th>1</th>\n",
              "      <td>82</td>\n",
              "      <td>11</td>\n",
              "      <td>9</td>\n",
              "      <td>4</td>\n",
              "      <td>0</td>\n",
              "      <td>0</td>\n",
              "      <td>4356</td>\n",
              "      <td>18</td>\n",
              "      <td>0</td>\n",
              "    </tr>\n",
              "    <tr>\n",
              "      <th>2</th>\n",
              "      <td>66</td>\n",
              "      <td>15</td>\n",
              "      <td>10</td>\n",
              "      <td>2</td>\n",
              "      <td>0</td>\n",
              "      <td>0</td>\n",
              "      <td>4356</td>\n",
              "      <td>40</td>\n",
              "      <td>0</td>\n",
              "    </tr>\n",
              "    <tr>\n",
              "      <th>3</th>\n",
              "      <td>54</td>\n",
              "      <td>5</td>\n",
              "      <td>4</td>\n",
              "      <td>4</td>\n",
              "      <td>0</td>\n",
              "      <td>0</td>\n",
              "      <td>3900</td>\n",
              "      <td>40</td>\n",
              "      <td>0</td>\n",
              "    </tr>\n",
              "    <tr>\n",
              "      <th>4</th>\n",
              "      <td>41</td>\n",
              "      <td>15</td>\n",
              "      <td>10</td>\n",
              "      <td>4</td>\n",
              "      <td>0</td>\n",
              "      <td>0</td>\n",
              "      <td>3900</td>\n",
              "      <td>40</td>\n",
              "      <td>0</td>\n",
              "    </tr>\n",
              "  </tbody>\n",
              "</table>\n",
              "</div>"
            ],
            "text/plain": [
              "   age  education  education.num  ...  capital.loss  hours.per.week  income\n",
              "0   90         11              9  ...          4356              40       0\n",
              "1   82         11              9  ...          4356              18       0\n",
              "2   66         15             10  ...          4356              40       0\n",
              "3   54          5              4  ...          3900              40       0\n",
              "4   41         15             10  ...          3900              40       0\n",
              "\n",
              "[5 rows x 9 columns]"
            ]
          },
          "metadata": {},
          "execution_count": 38
        }
      ]
    },
    {
      "cell_type": "code",
      "metadata": {
        "id": "Vdm46-rPl2WZ"
      },
      "source": [
        "X = df.iloc[:, :-1]"
      ],
      "execution_count": 39,
      "outputs": []
    },
    {
      "cell_type": "code",
      "metadata": {
        "colab": {
          "base_uri": "https://localhost:8080/",
          "height": 204
        },
        "id": "00C45YsttE0t",
        "outputId": "a8963797-9da6-4604-a217-98576f95e6c5"
      },
      "source": [
        "X.head()"
      ],
      "execution_count": 40,
      "outputs": [
        {
          "output_type": "execute_result",
          "data": {
            "text/html": [
              "<div>\n",
              "<style scoped>\n",
              "    .dataframe tbody tr th:only-of-type {\n",
              "        vertical-align: middle;\n",
              "    }\n",
              "\n",
              "    .dataframe tbody tr th {\n",
              "        vertical-align: top;\n",
              "    }\n",
              "\n",
              "    .dataframe thead th {\n",
              "        text-align: right;\n",
              "    }\n",
              "</style>\n",
              "<table border=\"1\" class=\"dataframe\">\n",
              "  <thead>\n",
              "    <tr style=\"text-align: right;\">\n",
              "      <th></th>\n",
              "      <th>age</th>\n",
              "      <th>education</th>\n",
              "      <th>education.num</th>\n",
              "      <th>race</th>\n",
              "      <th>sex</th>\n",
              "      <th>capital.gain</th>\n",
              "      <th>capital.loss</th>\n",
              "      <th>hours.per.week</th>\n",
              "    </tr>\n",
              "  </thead>\n",
              "  <tbody>\n",
              "    <tr>\n",
              "      <th>0</th>\n",
              "      <td>90</td>\n",
              "      <td>11</td>\n",
              "      <td>9</td>\n",
              "      <td>4</td>\n",
              "      <td>0</td>\n",
              "      <td>0</td>\n",
              "      <td>4356</td>\n",
              "      <td>40</td>\n",
              "    </tr>\n",
              "    <tr>\n",
              "      <th>1</th>\n",
              "      <td>82</td>\n",
              "      <td>11</td>\n",
              "      <td>9</td>\n",
              "      <td>4</td>\n",
              "      <td>0</td>\n",
              "      <td>0</td>\n",
              "      <td>4356</td>\n",
              "      <td>18</td>\n",
              "    </tr>\n",
              "    <tr>\n",
              "      <th>2</th>\n",
              "      <td>66</td>\n",
              "      <td>15</td>\n",
              "      <td>10</td>\n",
              "      <td>2</td>\n",
              "      <td>0</td>\n",
              "      <td>0</td>\n",
              "      <td>4356</td>\n",
              "      <td>40</td>\n",
              "    </tr>\n",
              "    <tr>\n",
              "      <th>3</th>\n",
              "      <td>54</td>\n",
              "      <td>5</td>\n",
              "      <td>4</td>\n",
              "      <td>4</td>\n",
              "      <td>0</td>\n",
              "      <td>0</td>\n",
              "      <td>3900</td>\n",
              "      <td>40</td>\n",
              "    </tr>\n",
              "    <tr>\n",
              "      <th>4</th>\n",
              "      <td>41</td>\n",
              "      <td>15</td>\n",
              "      <td>10</td>\n",
              "      <td>4</td>\n",
              "      <td>0</td>\n",
              "      <td>0</td>\n",
              "      <td>3900</td>\n",
              "      <td>40</td>\n",
              "    </tr>\n",
              "  </tbody>\n",
              "</table>\n",
              "</div>"
            ],
            "text/plain": [
              "   age  education  education.num  ...  capital.gain  capital.loss  hours.per.week\n",
              "0   90         11              9  ...             0          4356              40\n",
              "1   82         11              9  ...             0          4356              18\n",
              "2   66         15             10  ...             0          4356              40\n",
              "3   54          5              4  ...             0          3900              40\n",
              "4   41         15             10  ...             0          3900              40\n",
              "\n",
              "[5 rows x 8 columns]"
            ]
          },
          "metadata": {},
          "execution_count": 40
        }
      ]
    },
    {
      "cell_type": "code",
      "metadata": {
        "id": "lsB1ycD2nhRn"
      },
      "source": [
        "Y = df[df.columns[-1:]]"
      ],
      "execution_count": 41,
      "outputs": []
    },
    {
      "cell_type": "code",
      "metadata": {
        "colab": {
          "base_uri": "https://localhost:8080/",
          "height": 204
        },
        "id": "q_dx8qf6tKcf",
        "outputId": "728268f2-84b8-4955-86a0-fdbbef6dc82b"
      },
      "source": [
        "Y.head()"
      ],
      "execution_count": 42,
      "outputs": [
        {
          "output_type": "execute_result",
          "data": {
            "text/html": [
              "<div>\n",
              "<style scoped>\n",
              "    .dataframe tbody tr th:only-of-type {\n",
              "        vertical-align: middle;\n",
              "    }\n",
              "\n",
              "    .dataframe tbody tr th {\n",
              "        vertical-align: top;\n",
              "    }\n",
              "\n",
              "    .dataframe thead th {\n",
              "        text-align: right;\n",
              "    }\n",
              "</style>\n",
              "<table border=\"1\" class=\"dataframe\">\n",
              "  <thead>\n",
              "    <tr style=\"text-align: right;\">\n",
              "      <th></th>\n",
              "      <th>income</th>\n",
              "    </tr>\n",
              "  </thead>\n",
              "  <tbody>\n",
              "    <tr>\n",
              "      <th>0</th>\n",
              "      <td>0</td>\n",
              "    </tr>\n",
              "    <tr>\n",
              "      <th>1</th>\n",
              "      <td>0</td>\n",
              "    </tr>\n",
              "    <tr>\n",
              "      <th>2</th>\n",
              "      <td>0</td>\n",
              "    </tr>\n",
              "    <tr>\n",
              "      <th>3</th>\n",
              "      <td>0</td>\n",
              "    </tr>\n",
              "    <tr>\n",
              "      <th>4</th>\n",
              "      <td>0</td>\n",
              "    </tr>\n",
              "  </tbody>\n",
              "</table>\n",
              "</div>"
            ],
            "text/plain": [
              "   income\n",
              "0       0\n",
              "1       0\n",
              "2       0\n",
              "3       0\n",
              "4       0"
            ]
          },
          "metadata": {},
          "execution_count": 42
        }
      ]
    },
    {
      "cell_type": "code",
      "metadata": {
        "id": "V3c-kZYpiShT",
        "colab": {
          "base_uri": "https://localhost:8080/"
        },
        "outputId": "880ebf1c-c582-4f1d-b3fa-bcc6254d7b4b"
      },
      "source": [
        "# Feature Scaling\n",
        "from sklearn.preprocessing import StandardScaler\n",
        "for col in X.columns:\n",
        "  scaler = StandardScaler()\n",
        "  X[col] = scaler.fit_transform(X[col].values.reshape(-1, 1))"
      ],
      "execution_count": 43,
      "outputs": [
        {
          "output_type": "stream",
          "name": "stderr",
          "text": [
            "/usr/local/lib/python3.7/dist-packages/ipykernel_launcher.py:5: SettingWithCopyWarning: \n",
            "A value is trying to be set on a copy of a slice from a DataFrame.\n",
            "Try using .loc[row_indexer,col_indexer] = value instead\n",
            "\n",
            "See the caveats in the documentation: https://pandas.pydata.org/pandas-docs/stable/user_guide/indexing.html#returning-a-view-versus-a-copy\n",
            "  \"\"\"\n",
            "/usr/local/lib/python3.7/dist-packages/ipykernel_launcher.py:5: SettingWithCopyWarning: \n",
            "A value is trying to be set on a copy of a slice from a DataFrame.\n",
            "Try using .loc[row_indexer,col_indexer] = value instead\n",
            "\n",
            "See the caveats in the documentation: https://pandas.pydata.org/pandas-docs/stable/user_guide/indexing.html#returning-a-view-versus-a-copy\n",
            "  \"\"\"\n",
            "/usr/local/lib/python3.7/dist-packages/ipykernel_launcher.py:5: SettingWithCopyWarning: \n",
            "A value is trying to be set on a copy of a slice from a DataFrame.\n",
            "Try using .loc[row_indexer,col_indexer] = value instead\n",
            "\n",
            "See the caveats in the documentation: https://pandas.pydata.org/pandas-docs/stable/user_guide/indexing.html#returning-a-view-versus-a-copy\n",
            "  \"\"\"\n",
            "/usr/local/lib/python3.7/dist-packages/ipykernel_launcher.py:5: SettingWithCopyWarning: \n",
            "A value is trying to be set on a copy of a slice from a DataFrame.\n",
            "Try using .loc[row_indexer,col_indexer] = value instead\n",
            "\n",
            "See the caveats in the documentation: https://pandas.pydata.org/pandas-docs/stable/user_guide/indexing.html#returning-a-view-versus-a-copy\n",
            "  \"\"\"\n",
            "/usr/local/lib/python3.7/dist-packages/ipykernel_launcher.py:5: SettingWithCopyWarning: \n",
            "A value is trying to be set on a copy of a slice from a DataFrame.\n",
            "Try using .loc[row_indexer,col_indexer] = value instead\n",
            "\n",
            "See the caveats in the documentation: https://pandas.pydata.org/pandas-docs/stable/user_guide/indexing.html#returning-a-view-versus-a-copy\n",
            "  \"\"\"\n",
            "/usr/local/lib/python3.7/dist-packages/ipykernel_launcher.py:5: SettingWithCopyWarning: \n",
            "A value is trying to be set on a copy of a slice from a DataFrame.\n",
            "Try using .loc[row_indexer,col_indexer] = value instead\n",
            "\n",
            "See the caveats in the documentation: https://pandas.pydata.org/pandas-docs/stable/user_guide/indexing.html#returning-a-view-versus-a-copy\n",
            "  \"\"\"\n",
            "/usr/local/lib/python3.7/dist-packages/ipykernel_launcher.py:5: SettingWithCopyWarning: \n",
            "A value is trying to be set on a copy of a slice from a DataFrame.\n",
            "Try using .loc[row_indexer,col_indexer] = value instead\n",
            "\n",
            "See the caveats in the documentation: https://pandas.pydata.org/pandas-docs/stable/user_guide/indexing.html#returning-a-view-versus-a-copy\n",
            "  \"\"\"\n",
            "/usr/local/lib/python3.7/dist-packages/ipykernel_launcher.py:5: SettingWithCopyWarning: \n",
            "A value is trying to be set on a copy of a slice from a DataFrame.\n",
            "Try using .loc[row_indexer,col_indexer] = value instead\n",
            "\n",
            "See the caveats in the documentation: https://pandas.pydata.org/pandas-docs/stable/user_guide/indexing.html#returning-a-view-versus-a-copy\n",
            "  \"\"\"\n"
          ]
        }
      ]
    },
    {
      "cell_type": "code",
      "metadata": {
        "colab": {
          "base_uri": "https://localhost:8080/"
        },
        "id": "RTdOPYkviYJl",
        "outputId": "5f194d1f-223c-47b9-feaf-2021cdee0dbb"
      },
      "source": [
        "round(Y.value_counts(normalize=True) * 100, 2).astype(str) + \"%\""
      ],
      "execution_count": 44,
      "outputs": [
        {
          "output_type": "execute_result",
          "data": {
            "text/plain": [
              "income\n",
              "0         75.92%\n",
              "1         24.08%\n",
              "dtype: object"
            ]
          },
          "metadata": {},
          "execution_count": 44
        }
      ]
    },
    {
      "cell_type": "code",
      "metadata": {
        "colab": {
          "base_uri": "https://localhost:8080/"
        },
        "id": "dIRv_oLkoGpP",
        "outputId": "1b8fd843-37a9-4182-8d8a-409f4d5a562c"
      },
      "source": [
        "from imblearn.over_sampling import RandomOverSampler\n",
        "ros = RandomOverSampler(random_state=101)\n",
        "ros.fit(X,Y.values.ravel())"
      ],
      "execution_count": 45,
      "outputs": [
        {
          "output_type": "stream",
          "name": "stderr",
          "text": [
            "/usr/local/lib/python3.7/dist-packages/sklearn/externals/six.py:31: FutureWarning: The module is deprecated in version 0.21 and will be removed in version 0.23 since we've dropped support for Python 2.7. Please rely on the official version of six (https://pypi.org/project/six/).\n",
            "  \"(https://pypi.org/project/six/).\", FutureWarning)\n",
            "/usr/local/lib/python3.7/dist-packages/sklearn/utils/deprecation.py:144: FutureWarning: The sklearn.neighbors.base module is  deprecated in version 0.22 and will be removed in version 0.24. The corresponding classes / functions should instead be imported from sklearn.neighbors. Anything that cannot be imported from sklearn.neighbors is now part of the private API.\n",
            "  warnings.warn(message, FutureWarning)\n"
          ]
        },
        {
          "output_type": "execute_result",
          "data": {
            "text/plain": [
              "RandomOverSampler(random_state=101, ratio=None, return_indices=False,\n",
              "                  sampling_strategy='auto')"
            ]
          },
          "metadata": {},
          "execution_count": 45
        }
      ]
    },
    {
      "cell_type": "code",
      "metadata": {
        "colab": {
          "base_uri": "https://localhost:8080/"
        },
        "id": "4pfibOfSokVp",
        "outputId": "37016144-a6e8-42b1-dbda-a472c1db72af"
      },
      "source": [
        "X_resampled, Y_resampled = ros.fit_resample(X,Y.values.ravel())"
      ],
      "execution_count": 46,
      "outputs": [
        {
          "output_type": "stream",
          "name": "stderr",
          "text": [
            "/usr/local/lib/python3.7/dist-packages/sklearn/utils/deprecation.py:87: FutureWarning: Function safe_indexing is deprecated; safe_indexing is deprecated in version 0.22 and will be removed in version 0.24.\n",
            "  warnings.warn(msg, category=FutureWarning)\n"
          ]
        }
      ]
    },
    {
      "cell_type": "code",
      "metadata": {
        "id": "eCHDqouOpWaF"
      },
      "source": [
        "X_resampled = pd.DataFrame(X_resampled, columns=X.columns)"
      ],
      "execution_count": 47,
      "outputs": []
    },
    {
      "cell_type": "code",
      "metadata": {
        "colab": {
          "base_uri": "https://localhost:8080/"
        },
        "id": "l2AFPwzqtJYS",
        "outputId": "47421777-10fa-4a50-d470-d03204ee6282"
      },
      "source": [
        "X_resampled.shape"
      ],
      "execution_count": 48,
      "outputs": [
        {
          "output_type": "execute_result",
          "data": {
            "text/plain": [
              "(49440, 8)"
            ]
          },
          "metadata": {},
          "execution_count": 48
        }
      ]
    },
    {
      "cell_type": "code",
      "metadata": {
        "colab": {
          "base_uri": "https://localhost:8080/",
          "height": 204
        },
        "id": "b5PTKZv0pUZy",
        "outputId": "3c863196-f5da-4e16-e348-816923653764"
      },
      "source": [
        "Y_resampled = pd.DataFrame(Y_resampled, columns=Y.columns)\n",
        "Y_resampled.head()"
      ],
      "execution_count": 49,
      "outputs": [
        {
          "output_type": "execute_result",
          "data": {
            "text/html": [
              "<div>\n",
              "<style scoped>\n",
              "    .dataframe tbody tr th:only-of-type {\n",
              "        vertical-align: middle;\n",
              "    }\n",
              "\n",
              "    .dataframe tbody tr th {\n",
              "        vertical-align: top;\n",
              "    }\n",
              "\n",
              "    .dataframe thead th {\n",
              "        text-align: right;\n",
              "    }\n",
              "</style>\n",
              "<table border=\"1\" class=\"dataframe\">\n",
              "  <thead>\n",
              "    <tr style=\"text-align: right;\">\n",
              "      <th></th>\n",
              "      <th>income</th>\n",
              "    </tr>\n",
              "  </thead>\n",
              "  <tbody>\n",
              "    <tr>\n",
              "      <th>0</th>\n",
              "      <td>0</td>\n",
              "    </tr>\n",
              "    <tr>\n",
              "      <th>1</th>\n",
              "      <td>0</td>\n",
              "    </tr>\n",
              "    <tr>\n",
              "      <th>2</th>\n",
              "      <td>0</td>\n",
              "    </tr>\n",
              "    <tr>\n",
              "      <th>3</th>\n",
              "      <td>0</td>\n",
              "    </tr>\n",
              "    <tr>\n",
              "      <th>4</th>\n",
              "      <td>0</td>\n",
              "    </tr>\n",
              "  </tbody>\n",
              "</table>\n",
              "</div>"
            ],
            "text/plain": [
              "   income\n",
              "0       0\n",
              "1       0\n",
              "2       0\n",
              "3       0\n",
              "4       0"
            ]
          },
          "metadata": {},
          "execution_count": 49
        }
      ]
    },
    {
      "cell_type": "code",
      "metadata": {
        "colab": {
          "base_uri": "https://localhost:8080/"
        },
        "id": "IIaulg0toxVI",
        "outputId": "320b0c73-2e16-42c1-f34b-47d1ecd46ebd"
      },
      "source": [
        "round(Y_resampled.value_counts(normalize=True) * 100, 2).astype(str) + \"%\""
      ],
      "execution_count": 50,
      "outputs": [
        {
          "output_type": "execute_result",
          "data": {
            "text/plain": [
              "income\n",
              "1         50.0%\n",
              "0         50.0%\n",
              "dtype: object"
            ]
          },
          "metadata": {},
          "execution_count": 50
        }
      ]
    },
    {
      "cell_type": "markdown",
      "metadata": {
        "id": "9HtYeuX_tn5W"
      },
      "source": [
        "### train model"
      ]
    },
    {
      "cell_type": "code",
      "metadata": {
        "id": "s1H4JTzDtnFs"
      },
      "source": [
        "from sklearn.model_selection import train_test_split\n",
        "X_train, X_test, y_train, y_test = train_test_split(X_resampled,Y_resampled,test_size= 0.2,random_state=101)"
      ],
      "execution_count": 51,
      "outputs": []
    },
    {
      "cell_type": "code",
      "metadata": {
        "colab": {
          "base_uri": "https://localhost:8080/"
        },
        "id": "zHI-L9sXuErX",
        "outputId": "c5a5b926-5a26-431c-ba48-71dad3917541"
      },
      "source": [
        "print(X_train.shape)\n",
        "print(X_test.shape)\n",
        "print(y_train.shape)\n",
        "print(y_test.shape)"
      ],
      "execution_count": 52,
      "outputs": [
        {
          "output_type": "stream",
          "name": "stdout",
          "text": [
            "(39552, 8)\n",
            "(9888, 8)\n",
            "(39552, 1)\n",
            "(9888, 1)\n"
          ]
        }
      ]
    },
    {
      "cell_type": "markdown",
      "metadata": {
        "id": "zAYeUIr7KAMy"
      },
      "source": [
        "logistic regression"
      ]
    },
    {
      "cell_type": "code",
      "metadata": {
        "id": "Oeip0CX3usUQ"
      },
      "source": [
        "from sklearn.linear_model import LogisticRegression\n",
        "log_reg = LogisticRegression(random_state=101)"
      ],
      "execution_count": 53,
      "outputs": []
    },
    {
      "cell_type": "code",
      "metadata": {
        "colab": {
          "base_uri": "https://localhost:8080/"
        },
        "id": "4h4lXQItLjbH",
        "outputId": "2b16c6b0-8ef9-4ad7-c0dd-a6ffc4bf35b1"
      },
      "source": [
        "log_reg.fit(X_train,y_train.values.ravel())"
      ],
      "execution_count": 54,
      "outputs": [
        {
          "output_type": "execute_result",
          "data": {
            "text/plain": [
              "LogisticRegression(C=1.0, class_weight=None, dual=False, fit_intercept=True,\n",
              "                   intercept_scaling=1, l1_ratio=None, max_iter=100,\n",
              "                   multi_class='auto', n_jobs=None, penalty='l2',\n",
              "                   random_state=101, solver='lbfgs', tol=0.0001, verbose=0,\n",
              "                   warm_start=False)"
            ]
          },
          "metadata": {},
          "execution_count": 54
        }
      ]
    },
    {
      "cell_type": "code",
      "metadata": {
        "id": "7Lt8wzVoKjqk"
      },
      "source": [
        "y_pred_log_reg = log_reg.predict(X_test)"
      ],
      "execution_count": 55,
      "outputs": []
    },
    {
      "cell_type": "markdown",
      "metadata": {
        "id": "DVemHpOCKqCd"
      },
      "source": [
        "KNN classifier"
      ]
    },
    {
      "cell_type": "code",
      "metadata": {
        "colab": {
          "base_uri": "https://localhost:8080/"
        },
        "id": "kAHSNy03KuDt",
        "outputId": "af99417d-dc76-4a15-b036-03e1b156f778"
      },
      "source": [
        "from sklearn.neighbors import KNeighborsClassifier\n",
        "knn = KNeighborsClassifier()\n",
        "knn.fit(X_train,y_train.values.ravel())"
      ],
      "execution_count": 56,
      "outputs": [
        {
          "output_type": "execute_result",
          "data": {
            "text/plain": [
              "KNeighborsClassifier(algorithm='auto', leaf_size=30, metric='minkowski',\n",
              "                     metric_params=None, n_jobs=None, n_neighbors=5, p=2,\n",
              "                     weights='uniform')"
            ]
          },
          "metadata": {},
          "execution_count": 56
        }
      ]
    },
    {
      "cell_type": "code",
      "metadata": {
        "id": "SZtChXviLIdn"
      },
      "source": [
        "y_pred_knn = knn.predict(X_test)"
      ],
      "execution_count": 57,
      "outputs": []
    },
    {
      "cell_type": "markdown",
      "metadata": {
        "id": "IP5FVPwvN_XC"
      },
      "source": [
        "Support vector Classifier"
      ]
    },
    {
      "cell_type": "code",
      "metadata": {
        "id": "XhxBM3w2N6LY"
      },
      "source": [
        "from sklearn.svm import SVC\n",
        "svc = SVC(random_state=101)"
      ],
      "execution_count": 58,
      "outputs": []
    },
    {
      "cell_type": "code",
      "metadata": {
        "colab": {
          "base_uri": "https://localhost:8080/"
        },
        "id": "-hCYbtCuOSsU",
        "outputId": "8f6363e0-c8d2-4e63-8d53-da702a3a51b5"
      },
      "source": [
        "svc.fit(X_train,y_train.values.ravel())"
      ],
      "execution_count": 59,
      "outputs": [
        {
          "output_type": "execute_result",
          "data": {
            "text/plain": [
              "SVC(C=1.0, break_ties=False, cache_size=200, class_weight=None, coef0=0.0,\n",
              "    decision_function_shape='ovr', degree=3, gamma='scale', kernel='rbf',\n",
              "    max_iter=-1, probability=False, random_state=101, shrinking=True, tol=0.001,\n",
              "    verbose=False)"
            ]
          },
          "metadata": {},
          "execution_count": 59
        }
      ]
    },
    {
      "cell_type": "code",
      "metadata": {
        "id": "zt4Yr0nFOW3l"
      },
      "source": [
        "y_pred_svc = svc.predict(X_test)"
      ],
      "execution_count": 60,
      "outputs": []
    },
    {
      "cell_type": "markdown",
      "metadata": {
        "id": "y9qYCaD6Y7ne"
      },
      "source": [
        "Navie Bayes Classifier"
      ]
    },
    {
      "cell_type": "code",
      "metadata": {
        "colab": {
          "base_uri": "https://localhost:8080/"
        },
        "id": "4QIHeAEUY6-a",
        "outputId": "d8fa5f92-d346-4c4e-9d21-16b14335c23c"
      },
      "source": [
        "from sklearn.naive_bayes import GaussianNB\n",
        "nb = GaussianNB()\n",
        "nb.fit(X_train,y_train.values.ravel())"
      ],
      "execution_count": 61,
      "outputs": [
        {
          "output_type": "execute_result",
          "data": {
            "text/plain": [
              "GaussianNB(priors=None, var_smoothing=1e-09)"
            ]
          },
          "metadata": {},
          "execution_count": 61
        }
      ]
    },
    {
      "cell_type": "code",
      "metadata": {
        "id": "pXs_a-twZSKh"
      },
      "source": [
        "y_pred_nb = nb.predict(X_test)"
      ],
      "execution_count": 62,
      "outputs": []
    },
    {
      "cell_type": "markdown",
      "metadata": {
        "id": "nd6sRElIZY5z"
      },
      "source": [
        "Decision Tree Classifier"
      ]
    },
    {
      "cell_type": "code",
      "metadata": {
        "colab": {
          "base_uri": "https://localhost:8080/"
        },
        "id": "S72M1DLPZevz",
        "outputId": "f92908f6-4d65-45ff-8c32-6911be868b1d"
      },
      "source": [
        "from sklearn.tree import DecisionTreeClassifier\n",
        "dec_tree = DecisionTreeClassifier(random_state=101)\n",
        "dec_tree.fit(X_train,y_train)"
      ],
      "execution_count": 63,
      "outputs": [
        {
          "output_type": "execute_result",
          "data": {
            "text/plain": [
              "DecisionTreeClassifier(ccp_alpha=0.0, class_weight=None, criterion='gini',\n",
              "                       max_depth=None, max_features=None, max_leaf_nodes=None,\n",
              "                       min_impurity_decrease=0.0, min_impurity_split=None,\n",
              "                       min_samples_leaf=1, min_samples_split=2,\n",
              "                       min_weight_fraction_leaf=0.0, presort='deprecated',\n",
              "                       random_state=101, splitter='best')"
            ]
          },
          "metadata": {},
          "execution_count": 63
        }
      ]
    },
    {
      "cell_type": "code",
      "metadata": {
        "id": "39H2oJxYaR94"
      },
      "source": [
        "y_pred_dec_tree = dec_tree.predict(X_test)"
      ],
      "execution_count": 64,
      "outputs": []
    },
    {
      "cell_type": "markdown",
      "metadata": {
        "id": "xXrbvnH3aaXa"
      },
      "source": [
        "Random Forest Classifier"
      ]
    },
    {
      "cell_type": "code",
      "metadata": {
        "colab": {
          "base_uri": "https://localhost:8080/"
        },
        "id": "YY2cRcCdahiq",
        "outputId": "906b9a9a-d8a9-4099-c770-ae24c498c4ad"
      },
      "source": [
        "from sklearn.ensemble import RandomForestClassifier\n",
        "rfc = RandomForestClassifier(random_state=101)\n",
        "rfc.fit(X_train,y_train.values.ravel())"
      ],
      "execution_count": 65,
      "outputs": [
        {
          "output_type": "execute_result",
          "data": {
            "text/plain": [
              "RandomForestClassifier(bootstrap=True, ccp_alpha=0.0, class_weight=None,\n",
              "                       criterion='gini', max_depth=None, max_features='auto',\n",
              "                       max_leaf_nodes=None, max_samples=None,\n",
              "                       min_impurity_decrease=0.0, min_impurity_split=None,\n",
              "                       min_samples_leaf=1, min_samples_split=2,\n",
              "                       min_weight_fraction_leaf=0.0, n_estimators=100,\n",
              "                       n_jobs=None, oob_score=False, random_state=101,\n",
              "                       verbose=0, warm_start=False)"
            ]
          },
          "metadata": {},
          "execution_count": 65
        }
      ]
    },
    {
      "cell_type": "code",
      "metadata": {
        "id": "2bGbYcq_axOs"
      },
      "source": [
        "y_pred_rfc = rfc.predict(X_test)"
      ],
      "execution_count": 66,
      "outputs": []
    },
    {
      "cell_type": "markdown",
      "metadata": {
        "id": "4JkrwRQ4N6_5"
      },
      "source": [
        "# Accuracy,f1 score"
      ]
    },
    {
      "cell_type": "code",
      "metadata": {
        "id": "FYR7rcGkMN54"
      },
      "source": [
        "from sklearn.metrics import accuracy_score\n",
        "from sklearn.metrics import f1_score"
      ],
      "execution_count": 67,
      "outputs": []
    },
    {
      "cell_type": "code",
      "metadata": {
        "colab": {
          "base_uri": "https://localhost:8080/"
        },
        "id": "zr9L-ZFgMYww",
        "outputId": "9027f7ca-56bf-4443-8ca9-c7098bc218a1"
      },
      "source": [
        "print(\"LogisticRegression\")\n",
        "print(\"accuracy\",round(accuracy_score(y_test,y_pred_log_reg)*100,2))\n",
        "print(\"f1\",round(f1_score(y_test,y_pred_log_reg)*100,2))"
      ],
      "execution_count": 68,
      "outputs": [
        {
          "output_type": "stream",
          "name": "stdout",
          "text": [
            "LogisticRegression\n",
            "accuracy 76.16\n",
            "f1 75.81\n"
          ]
        }
      ]
    },
    {
      "cell_type": "code",
      "metadata": {
        "colab": {
          "base_uri": "https://localhost:8080/"
        },
        "id": "SMrE2xYrM9uW",
        "outputId": "5fee3bdb-13bf-498a-fad9-62202bbe1144"
      },
      "source": [
        "print(\"KNeighborsClassifier\")\n",
        "print(\"accuracy\",round(accuracy_score(y_test,y_pred_knn)*100,2))\n",
        "print(\"f1\",round(f1_score(y_test,y_pred_knn)*100,2))"
      ],
      "execution_count": 69,
      "outputs": [
        {
          "output_type": "stream",
          "name": "stdout",
          "text": [
            "KNeighborsClassifier\n",
            "accuracy 79.19\n",
            "f1 79.9\n"
          ]
        }
      ]
    },
    {
      "cell_type": "code",
      "metadata": {
        "colab": {
          "base_uri": "https://localhost:8080/"
        },
        "id": "KbwmgXYzbhcf",
        "outputId": "16cbb27f-da74-47fe-92a6-38c94e2946a3"
      },
      "source": [
        "print(\"Support vector Classifier\")\n",
        "print(\"accuracy\",round(accuracy_score(y_test,y_pred_svc)*100,2))\n",
        "print(\"f1\",round(f1_score(y_test,y_pred_svc)*100,2))"
      ],
      "execution_count": 70,
      "outputs": [
        {
          "output_type": "stream",
          "name": "stdout",
          "text": [
            "Support vector Classifier\n",
            "accuracy 77.62\n",
            "f1 78.36\n"
          ]
        }
      ]
    },
    {
      "cell_type": "code",
      "metadata": {
        "colab": {
          "base_uri": "https://localhost:8080/"
        },
        "id": "BH90n-2Ubh7I",
        "outputId": "729e32e1-4730-4210-da3e-952fb40758f6"
      },
      "source": [
        "print(\"Navie Bayes Classifier\")\n",
        "print(\"accuracy\",round(accuracy_score(y_test,y_pred_nb)*100,2))\n",
        "print(\"f1\",round(f1_score(y_test,y_pred_nb)*100,2))"
      ],
      "execution_count": 71,
      "outputs": [
        {
          "output_type": "stream",
          "name": "stdout",
          "text": [
            "Navie Bayes Classifier\n",
            "accuracy 63.67\n",
            "f1 47.27\n"
          ]
        }
      ]
    },
    {
      "cell_type": "code",
      "metadata": {
        "colab": {
          "base_uri": "https://localhost:8080/"
        },
        "id": "xYwvgazybicD",
        "outputId": "1edd50a4-2cf2-4b36-a62a-2f2a716fed5d"
      },
      "source": [
        "print(\"Decision Tree Classifier\")\n",
        "print(\"accuracy\",round(accuracy_score(y_test,y_pred_dec_tree)*100,2))\n",
        "print(\"f1\",round(f1_score(y_test,y_pred_dec_tree)*100,2))"
      ],
      "execution_count": 72,
      "outputs": [
        {
          "output_type": "stream",
          "name": "stdout",
          "text": [
            "Decision Tree Classifier\n",
            "accuracy 82.66\n",
            "f1 83.14\n"
          ]
        }
      ]
    },
    {
      "cell_type": "code",
      "metadata": {
        "colab": {
          "base_uri": "https://localhost:8080/"
        },
        "id": "Gl44Tlv3bjPw",
        "outputId": "525e0196-19e3-478f-bf37-1758e318b6ff"
      },
      "source": [
        "print(\"Random Forest Classifier\")\n",
        "print(\"accuracy\",round(accuracy_score(y_test,y_pred_rfc)*100,2))\n",
        "print(\"f1\",round(f1_score(y_test,y_pred_rfc)*100,2))"
      ],
      "execution_count": 73,
      "outputs": [
        {
          "output_type": "stream",
          "name": "stdout",
          "text": [
            "Random Forest Classifier\n",
            "accuracy 83.32\n",
            "f1 83.92\n"
          ]
        }
      ]
    },
    {
      "cell_type": "markdown",
      "metadata": {
        "id": "bZi8llz7cIVD"
      },
      "source": [
        "Hyperparameter tuning"
      ]
    },
    {
      "cell_type": "code",
      "metadata": {
        "id": "wg8xtL49cSIP"
      },
      "source": [
        "from sklearn.model_selection import RandomizedSearchCV"
      ],
      "execution_count": 74,
      "outputs": []
    },
    {
      "cell_type": "code",
      "metadata": {
        "id": "sYqKYo6zcfTc"
      },
      "source": [
        "n_estimators = [int(x) for x in np.linspace(start=40,stop=150,num=15)]\n",
        "max_depth = [int(x) for x in np.linspace(start=40,stop=150,num=15)]"
      ],
      "execution_count": 75,
      "outputs": []
    },
    {
      "cell_type": "code",
      "metadata": {
        "id": "bk5icEjdc6Dq"
      },
      "source": [
        "para_dict = {\n",
        "    'n_estimators' : n_estimators,\n",
        "    'max_depth' : max_depth\n",
        "}"
      ],
      "execution_count": 76,
      "outputs": []
    },
    {
      "cell_type": "code",
      "metadata": {
        "id": "DRuRCNRxdK9Y"
      },
      "source": [
        "rf_tune = RandomForestClassifier(random_state=101)"
      ],
      "execution_count": 77,
      "outputs": []
    },
    {
      "cell_type": "code",
      "metadata": {
        "id": "9heQ1bq4dYFX"
      },
      "source": [
        "rf_cv = RandomizedSearchCV(estimator=rf_tune, param_distributions=para_dict, cv=5, random_state=101)"
      ],
      "execution_count": 78,
      "outputs": []
    },
    {
      "cell_type": "code",
      "metadata": {
        "colab": {
          "base_uri": "https://localhost:8080/"
        },
        "id": "RzJMFWpIdxvV",
        "outputId": "0f42b0ff-2d98-4dcf-922a-a0fdee602b94"
      },
      "source": [
        "rf_cv.fit(X_train,y_train.values.ravel())"
      ],
      "execution_count": 79,
      "outputs": [
        {
          "output_type": "execute_result",
          "data": {
            "text/plain": [
              "RandomizedSearchCV(cv=5, error_score=nan,\n",
              "                   estimator=RandomForestClassifier(bootstrap=True,\n",
              "                                                    ccp_alpha=0.0,\n",
              "                                                    class_weight=None,\n",
              "                                                    criterion='gini',\n",
              "                                                    max_depth=None,\n",
              "                                                    max_features='auto',\n",
              "                                                    max_leaf_nodes=None,\n",
              "                                                    max_samples=None,\n",
              "                                                    min_impurity_decrease=0.0,\n",
              "                                                    min_impurity_split=None,\n",
              "                                                    min_samples_leaf=1,\n",
              "                                                    min_samples_split=2,\n",
              "                                                    min_weight_fraction_leaf=0.0,\n",
              "                                                    n_estimators=100,\n",
              "                                                    n_jobs...\n",
              "                                                    oob_score=False,\n",
              "                                                    random_state=101, verbose=0,\n",
              "                                                    warm_start=False),\n",
              "                   iid='deprecated', n_iter=10, n_jobs=None,\n",
              "                   param_distributions={'max_depth': [40, 47, 55, 63, 71, 79,\n",
              "                                                      87, 95, 102, 110, 118,\n",
              "                                                      126, 134, 142, 150],\n",
              "                                        'n_estimators': [40, 47, 55, 63, 71, 79,\n",
              "                                                         87, 95, 102, 110, 118,\n",
              "                                                         126, 134, 142, 150]},\n",
              "                   pre_dispatch='2*n_jobs', random_state=101, refit=True,\n",
              "                   return_train_score=False, scoring=None, verbose=0)"
            ]
          },
          "metadata": {},
          "execution_count": 79
        }
      ]
    },
    {
      "cell_type": "code",
      "metadata": {
        "colab": {
          "base_uri": "https://localhost:8080/"
        },
        "id": "DbPNdkUHd0-b",
        "outputId": "9744a03b-c41d-434c-b9a9-7ba2555d4d0a"
      },
      "source": [
        "rf_cv.best_score_"
      ],
      "execution_count": 80,
      "outputs": [
        {
          "output_type": "execute_result",
          "data": {
            "text/plain": [
              "0.8302739212679107"
            ]
          },
          "metadata": {},
          "execution_count": 80
        }
      ]
    },
    {
      "cell_type": "code",
      "metadata": {
        "colab": {
          "base_uri": "https://localhost:8080/"
        },
        "id": "Fk0k0P43d4a7",
        "outputId": "f1a53ba9-bc7a-4990-cfb4-f38f067595ee"
      },
      "source": [
        "rf_cv.best_params_"
      ],
      "execution_count": 81,
      "outputs": [
        {
          "output_type": "execute_result",
          "data": {
            "text/plain": [
              "{'max_depth': 63, 'n_estimators': 110}"
            ]
          },
          "metadata": {},
          "execution_count": 81
        }
      ]
    },
    {
      "cell_type": "code",
      "metadata": {
        "id": "XqYlpV9Id_rN"
      },
      "source": [
        "rf_best = RandomForestClassifier(max_depth=63,n_estimators=110,random_state=101)"
      ],
      "execution_count": 82,
      "outputs": []
    },
    {
      "cell_type": "code",
      "metadata": {
        "colab": {
          "base_uri": "https://localhost:8080/"
        },
        "id": "V0hj_mm7eMPN",
        "outputId": "80773117-6e8e-4d27-cf88-3819c1db14b3"
      },
      "source": [
        "rf_best.fit(X_train,y_train.values.ravel())"
      ],
      "execution_count": 83,
      "outputs": [
        {
          "output_type": "execute_result",
          "data": {
            "text/plain": [
              "RandomForestClassifier(bootstrap=True, ccp_alpha=0.0, class_weight=None,\n",
              "                       criterion='gini', max_depth=63, max_features='auto',\n",
              "                       max_leaf_nodes=None, max_samples=None,\n",
              "                       min_impurity_decrease=0.0, min_impurity_split=None,\n",
              "                       min_samples_leaf=1, min_samples_split=2,\n",
              "                       min_weight_fraction_leaf=0.0, n_estimators=110,\n",
              "                       n_jobs=None, oob_score=False, random_state=101,\n",
              "                       verbose=0, warm_start=False)"
            ]
          },
          "metadata": {},
          "execution_count": 83
        }
      ]
    },
    {
      "cell_type": "code",
      "metadata": {
        "id": "5rucwMO9eQkB"
      },
      "source": [
        "y_pred_best = rf_best.predict(X_test)"
      ],
      "execution_count": 84,
      "outputs": []
    },
    {
      "cell_type": "code",
      "metadata": {
        "colab": {
          "base_uri": "https://localhost:8080/"
        },
        "id": "KIeN2wPNebFh",
        "outputId": "0334c4a6-285e-40d8-8309-b23439f42884"
      },
      "source": [
        "print(\"Random Forest Classifier\")\n",
        "print(\"accuracy\",round(accuracy_score(y_test,y_pred_best)*100,2))\n",
        "print(\"f1\",round(f1_score(y_test,y_pred_best)*100,2))"
      ],
      "execution_count": 85,
      "outputs": [
        {
          "output_type": "stream",
          "name": "stdout",
          "text": [
            "Random Forest Classifier\n",
            "accuracy 83.32\n",
            "f1 83.92\n"
          ]
        }
      ]
    },
    {
      "cell_type": "code",
      "metadata": {
        "id": "3SJJ4ByAejO5"
      },
      "source": [
        "from sklearn.metrics import confusion_matrix\n",
        "cm = confusion_matrix(y_test,y_pred_best)"
      ],
      "execution_count": 86,
      "outputs": []
    },
    {
      "cell_type": "code",
      "metadata": {
        "colab": {
          "base_uri": "https://localhost:8080/",
          "height": 430
        },
        "id": "h0RGfX3Fe5Os",
        "outputId": "e56bdd2c-1b95-470c-e569-38e74b6adf9a"
      },
      "source": [
        "plt.style.use('default')\n",
        "sns.heatmap(cm, annot=True, fmt='d',cmap='YlGnBu')\n",
        "plt.savefig('heatmap.png')\n",
        "plt.show()"
      ],
      "execution_count": 87,
      "outputs": [
        {
          "output_type": "display_data",
          "data": {
            "image/png": "[encoded data removed]",
            "text/plain": [
              "<Figure size 640x480 with 2 Axes>"
            ]
          },
          "metadata": {}
        }
      ]
    }
  ]
}