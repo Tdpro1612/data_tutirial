{
  "nbformat": 4,
  "nbformat_minor": 0,
  "metadata": {
    "colab": {
      "name": "code_for_clean_and_visualization_ 25gb.ipynb",
      "provenance": [],
      "collapsed_sections": [],
      "machine_shape": "hm"
    },
    "language_info": {
      "name": "python",
      "version": "3.6.4",
      "mimetype": "text/x-python",
      "codemirror_mode": {
        "name": "ipython",
        "version": 3
      },
      "pygments_lexer": "ipython3",
      "nbconvert_exporter": "python",
      "file_extension": ".py"
    },
    "kernelspec": {
      "name": "python3",
      "display_name": "Python 3"
    }
  },
  "cells": [
    {
      "cell_type": "markdown",
      "metadata": {
        "id": "PJLAgBbWQYGv"
      },
      "source": [
        "### import libraries"
      ]
    },
    {
      "cell_type": "code",
      "metadata": {
        "id": "xe7ojHcvuLtF"
      },
      "source": [
        "import os\n",
        "import numpy as np\n",
        "import pandas as pd\n",
        "import json as js\n",
        "import seaborn as sns\n",
        "import matplotlib.pyplot as plt"
      ],
      "execution_count": 1,
      "outputs": []
    },
    {
      "cell_type": "code",
      "metadata": {
        "colab": {
          "base_uri": "https://localhost:8080/"
        },
        "id": "Y4cOoShKucUF",
        "outputId": "e9870fb4-431e-47c7-b2ef-b986bc40cb47"
      },
      "source": [
        "from google.colab import drive\n",
        "drive.mount(\"/content/drive\")"
      ],
      "execution_count": 2,
      "outputs": [
        {
          "output_type": "stream",
          "name": "stdout",
          "text": [
            "Mounted at /content/drive\n"
          ]
        }
      ]
    },
    {
      "cell_type": "markdown",
      "metadata": {
        "id": "P_BHUZoQQkuH"
      },
      "source": [
        "### import dataset"
      ]
    },
    {
      "cell_type": "code",
      "metadata": {
        "colab": {
          "base_uri": "https://localhost:8080/"
        },
        "id": "nf_MpogvvwPE",
        "outputId": "d70fcfe2-ce9f-4f16-f6eb-ce688b17f715"
      },
      "source": [
        "file_name = \"/content/kaggle.json\"\n",
        "with open(file_name, 'r') as f:\n",
        "    document =  js.loads(f.read())\n",
        "    \n",
        "print(document)\n",
        "#{'key': 'c00046e4b093c67705ca6d402f00aa31', 'username': 'nguynnguynkhoa'}\n",
        "\n",
        "os.environ['KAGGLE_USERNAME'] = document['username']\n",
        "os.environ['KAGGLE_KEY'] = document['key']\n",
        "\n",
        "#get API"
      ],
      "execution_count": 3,
      "outputs": [
        {
          "output_type": "stream",
          "name": "stdout",
          "text": [
            "{'username': 'nguynnguynkhoa', 'key': '86d54991913d6b87880d297405c8173e'}\n"
          ]
        }
      ]
    },
    {
      "cell_type": "code",
      "metadata": {
        "colab": {
          "base_uri": "https://localhost:8080/"
        },
        "id": "LzQwL1TnvoGX",
        "outputId": "1ce5f07d-5219-401e-8636-357fcfa5c2c3"
      },
      "source": [
        "!kaggle datasets download -d uciml/adult-census-income"
      ],
      "execution_count": 4,
      "outputs": [
        {
          "output_type": "stream",
          "name": "stdout",
          "text": [
            "Downloading adult-census-income.zip to /content\n",
            "\r  0% 0.00/450k [00:00<?, ?B/s]\n",
            "\r100% 450k/450k [00:00<00:00, 67.0MB/s]\n"
          ]
        }
      ]
    },
    {
      "cell_type": "code",
      "metadata": {
        "colab": {
          "base_uri": "https://localhost:8080/"
        },
        "id": "tYpzTPcwwPDp",
        "outputId": "8fd3c6bf-3d69-47bd-bac0-4e7041ab0aa4"
      },
      "source": [
        "!unzip /content/adult-census-income.zip"
      ],
      "execution_count": 5,
      "outputs": [
        {
          "output_type": "stream",
          "name": "stdout",
          "text": [
            "Archive:  /content/adult-census-income.zip\n",
            "  inflating: adult.csv               \n"
          ]
        }
      ]
    },
    {
      "cell_type": "code",
      "metadata": {
        "id": "dVC8-S-lwhBN"
      },
      "source": [
        "df = pd.read_csv(\"/content/adult.csv\")"
      ],
      "execution_count": 6,
      "outputs": []
    },
    {
      "cell_type": "markdown",
      "metadata": {
        "id": "5PfsbVl6QpNI"
      },
      "source": [
        "### Problem description"
      ]
    },
    {
      "cell_type": "code",
      "metadata": {
        "colab": {
          "base_uri": "https://localhost:8080/"
        },
        "id": "147y-dLHxFma",
        "outputId": "6904b9dc-95e2-49f2-d7b7-16981d4191e0"
      },
      "source": [
        "df.info()"
      ],
      "execution_count": 7,
      "outputs": [
        {
          "output_type": "stream",
          "name": "stdout",
          "text": [
            "<class 'pandas.core.frame.DataFrame'>\n",
            "RangeIndex: 32561 entries, 0 to 32560\n",
            "Data columns (total 15 columns):\n",
            " #   Column          Non-Null Count  Dtype \n",
            "---  ------          --------------  ----- \n",
            " 0   age             32561 non-null  int64 \n",
            " 1   workclass       32561 non-null  object\n",
            " 2   fnlwgt          32561 non-null  int64 \n",
            " 3   education       32561 non-null  object\n",
            " 4   education.num   32561 non-null  int64 \n",
            " 5   marital.status  32561 non-null  object\n",
            " 6   occupation      32561 non-null  object\n",
            " 7   relationship    32561 non-null  object\n",
            " 8   race            32561 non-null  object\n",
            " 9   sex             32561 non-null  object\n",
            " 10  capital.gain    32561 non-null  int64 \n",
            " 11  capital.loss    32561 non-null  int64 \n",
            " 12  hours.per.week  32561 non-null  int64 \n",
            " 13  native.country  32561 non-null  object\n",
            " 14  income          32561 non-null  object\n",
            "dtypes: int64(6), object(9)\n",
            "memory usage: 3.7+ MB\n"
          ]
        }
      ]
    },
    {
      "cell_type": "code",
      "metadata": {
        "colab": {
          "base_uri": "https://localhost:8080/",
          "height": 203
        },
        "id": "wo8IaHKOBDD5",
        "outputId": "ebe6c362-b95a-4c47-d0e3-98bc7ad83404"
      },
      "source": [
        "df.head()"
      ],
      "execution_count": 8,
      "outputs": [
        {
          "output_type": "execute_result",
          "data": {
            "text/html": [
              "<div>\n",
              "<style scoped>\n",
              "    .dataframe tbody tr th:only-of-type {\n",
              "        vertical-align: middle;\n",
              "    }\n",
              "\n",
              "    .dataframe tbody tr th {\n",
              "        vertical-align: top;\n",
              "    }\n",
              "\n",
              "    .dataframe thead th {\n",
              "        text-align: right;\n",
              "    }\n",
              "</style>\n",
              "<table border=\"1\" class=\"dataframe\">\n",
              "  <thead>\n",
              "    <tr style=\"text-align: right;\">\n",
              "      <th></th>\n",
              "      <th>age</th>\n",
              "      <th>workclass</th>\n",
              "      <th>fnlwgt</th>\n",
              "      <th>education</th>\n",
              "      <th>education.num</th>\n",
              "      <th>marital.status</th>\n",
              "      <th>occupation</th>\n",
              "      <th>relationship</th>\n",
              "      <th>race</th>\n",
              "      <th>sex</th>\n",
              "      <th>capital.gain</th>\n",
              "      <th>capital.loss</th>\n",
              "      <th>hours.per.week</th>\n",
              "      <th>native.country</th>\n",
              "      <th>income</th>\n",
              "    </tr>\n",
              "  </thead>\n",
              "  <tbody>\n",
              "    <tr>\n",
              "      <th>0</th>\n",
              "      <td>90</td>\n",
              "      <td>?</td>\n",
              "      <td>77053</td>\n",
              "      <td>HS-grad</td>\n",
              "      <td>9</td>\n",
              "      <td>Widowed</td>\n",
              "      <td>?</td>\n",
              "      <td>Not-in-family</td>\n",
              "      <td>White</td>\n",
              "      <td>Female</td>\n",
              "      <td>0</td>\n",
              "      <td>4356</td>\n",
              "      <td>40</td>\n",
              "      <td>United-States</td>\n",
              "      <td>&lt;=50K</td>\n",
              "    </tr>\n",
              "    <tr>\n",
              "      <th>1</th>\n",
              "      <td>82</td>\n",
              "      <td>Private</td>\n",
              "      <td>132870</td>\n",
              "      <td>HS-grad</td>\n",
              "      <td>9</td>\n",
              "      <td>Widowed</td>\n",
              "      <td>Exec-managerial</td>\n",
              "      <td>Not-in-family</td>\n",
              "      <td>White</td>\n",
              "      <td>Female</td>\n",
              "      <td>0</td>\n",
              "      <td>4356</td>\n",
              "      <td>18</td>\n",
              "      <td>United-States</td>\n",
              "      <td>&lt;=50K</td>\n",
              "    </tr>\n",
              "    <tr>\n",
              "      <th>2</th>\n",
              "      <td>66</td>\n",
              "      <td>?</td>\n",
              "      <td>186061</td>\n",
              "      <td>Some-college</td>\n",
              "      <td>10</td>\n",
              "      <td>Widowed</td>\n",
              "      <td>?</td>\n",
              "      <td>Unmarried</td>\n",
              "      <td>Black</td>\n",
              "      <td>Female</td>\n",
              "      <td>0</td>\n",
              "      <td>4356</td>\n",
              "      <td>40</td>\n",
              "      <td>United-States</td>\n",
              "      <td>&lt;=50K</td>\n",
              "    </tr>\n",
              "    <tr>\n",
              "      <th>3</th>\n",
              "      <td>54</td>\n",
              "      <td>Private</td>\n",
              "      <td>140359</td>\n",
              "      <td>7th-8th</td>\n",
              "      <td>4</td>\n",
              "      <td>Divorced</td>\n",
              "      <td>Machine-op-inspct</td>\n",
              "      <td>Unmarried</td>\n",
              "      <td>White</td>\n",
              "      <td>Female</td>\n",
              "      <td>0</td>\n",
              "      <td>3900</td>\n",
              "      <td>40</td>\n",
              "      <td>United-States</td>\n",
              "      <td>&lt;=50K</td>\n",
              "    </tr>\n",
              "    <tr>\n",
              "      <th>4</th>\n",
              "      <td>41</td>\n",
              "      <td>Private</td>\n",
              "      <td>264663</td>\n",
              "      <td>Some-college</td>\n",
              "      <td>10</td>\n",
              "      <td>Separated</td>\n",
              "      <td>Prof-specialty</td>\n",
              "      <td>Own-child</td>\n",
              "      <td>White</td>\n",
              "      <td>Female</td>\n",
              "      <td>0</td>\n",
              "      <td>3900</td>\n",
              "      <td>40</td>\n",
              "      <td>United-States</td>\n",
              "      <td>&lt;=50K</td>\n",
              "    </tr>\n",
              "  </tbody>\n",
              "</table>\n",
              "</div>"
            ],
            "text/plain": [
              "   age workclass  fnlwgt  ... hours.per.week  native.country income\n",
              "0   90         ?   77053  ...             40   United-States  <=50K\n",
              "1   82   Private  132870  ...             18   United-States  <=50K\n",
              "2   66         ?  186061  ...             40   United-States  <=50K\n",
              "3   54   Private  140359  ...             40   United-States  <=50K\n",
              "4   41   Private  264663  ...             40   United-States  <=50K\n",
              "\n",
              "[5 rows x 15 columns]"
            ]
          },
          "metadata": {},
          "execution_count": 8
        }
      ]
    },
    {
      "cell_type": "code",
      "metadata": {
        "colab": {
          "base_uri": "https://localhost:8080/"
        },
        "id": "4sTcBD7uAifp",
        "outputId": "b3fd0ab4-8afc-4385-d272-05710e68bae9"
      },
      "source": [
        "df['workclass'].value_counts()"
      ],
      "execution_count": 9,
      "outputs": [
        {
          "output_type": "execute_result",
          "data": {
            "text/plain": [
              "Private             22696\n",
              "Self-emp-not-inc     2541\n",
              "Local-gov            2093\n",
              "?                    1836\n",
              "State-gov            1298\n",
              "Self-emp-inc         1116\n",
              "Federal-gov           960\n",
              "Without-pay            14\n",
              "Never-worked            7\n",
              "Name: workclass, dtype: int64"
            ]
          },
          "metadata": {},
          "execution_count": 9
        }
      ]
    },
    {
      "cell_type": "code",
      "metadata": {
        "id": "O56PTQmIxeIZ",
        "colab": {
          "base_uri": "https://localhost:8080/"
        },
        "outputId": "56fac46c-8d4f-4bcd-c4e0-7c3e939b3100"
      },
      "source": [
        "df['education'].value_counts()"
      ],
      "execution_count": 10,
      "outputs": [
        {
          "output_type": "execute_result",
          "data": {
            "text/plain": [
              "HS-grad         10501\n",
              "Some-college     7291\n",
              "Bachelors        5355\n",
              "Masters          1723\n",
              "Assoc-voc        1382\n",
              "11th             1175\n",
              "Assoc-acdm       1067\n",
              "10th              933\n",
              "7th-8th           646\n",
              "Prof-school       576\n",
              "9th               514\n",
              "12th              433\n",
              "Doctorate         413\n",
              "5th-6th           333\n",
              "1st-4th           168\n",
              "Preschool          51\n",
              "Name: education, dtype: int64"
            ]
          },
          "metadata": {},
          "execution_count": 10
        }
      ]
    },
    {
      "cell_type": "code",
      "metadata": {
        "colab": {
          "base_uri": "https://localhost:8080/"
        },
        "id": "JsXOV9pbK5us",
        "outputId": "eb93fd7c-e952-44a8-edc0-8768eb6a9fd0"
      },
      "source": [
        "df['marital.status'].value_counts()"
      ],
      "execution_count": 11,
      "outputs": [
        {
          "output_type": "execute_result",
          "data": {
            "text/plain": [
              "Married-civ-spouse       14976\n",
              "Never-married            10683\n",
              "Divorced                  4443\n",
              "Separated                 1025\n",
              "Widowed                    993\n",
              "Married-spouse-absent      418\n",
              "Married-AF-spouse           23\n",
              "Name: marital.status, dtype: int64"
            ]
          },
          "metadata": {},
          "execution_count": 11
        }
      ]
    },
    {
      "cell_type": "code",
      "metadata": {
        "colab": {
          "base_uri": "https://localhost:8080/"
        },
        "id": "IFmVI8jyLFer",
        "outputId": "4125777f-f6b2-424c-a9cb-d7c0c0792d15"
      },
      "source": [
        "df['occupation'].value_counts()"
      ],
      "execution_count": 12,
      "outputs": [
        {
          "output_type": "execute_result",
          "data": {
            "text/plain": [
              "Prof-specialty       4140\n",
              "Craft-repair         4099\n",
              "Exec-managerial      4066\n",
              "Adm-clerical         3770\n",
              "Sales                3650\n",
              "Other-service        3295\n",
              "Machine-op-inspct    2002\n",
              "?                    1843\n",
              "Transport-moving     1597\n",
              "Handlers-cleaners    1370\n",
              "Farming-fishing       994\n",
              "Tech-support          928\n",
              "Protective-serv       649\n",
              "Priv-house-serv       149\n",
              "Armed-Forces            9\n",
              "Name: occupation, dtype: int64"
            ]
          },
          "metadata": {},
          "execution_count": 12
        }
      ]
    },
    {
      "cell_type": "code",
      "metadata": {
        "colab": {
          "base_uri": "https://localhost:8080/"
        },
        "id": "4DPHglZOLRdv",
        "outputId": "1102943d-f345-4457-cb44-9a79ce69cdac"
      },
      "source": [
        "df['relationship'].value_counts()"
      ],
      "execution_count": 13,
      "outputs": [
        {
          "output_type": "execute_result",
          "data": {
            "text/plain": [
              "Husband           13193\n",
              "Not-in-family      8305\n",
              "Own-child          5068\n",
              "Unmarried          3446\n",
              "Wife               1568\n",
              "Other-relative      981\n",
              "Name: relationship, dtype: int64"
            ]
          },
          "metadata": {},
          "execution_count": 13
        }
      ]
    },
    {
      "cell_type": "code",
      "metadata": {
        "colab": {
          "base_uri": "https://localhost:8080/"
        },
        "id": "iV47jS7jLZdd",
        "outputId": "cc427c0a-b3c4-4137-92b9-c2c1a6fbfcc6"
      },
      "source": [
        "df['race'].value_counts()"
      ],
      "execution_count": 14,
      "outputs": [
        {
          "output_type": "execute_result",
          "data": {
            "text/plain": [
              "White                 27816\n",
              "Black                  3124\n",
              "Asian-Pac-Islander     1039\n",
              "Amer-Indian-Eskimo      311\n",
              "Other                   271\n",
              "Name: race, dtype: int64"
            ]
          },
          "metadata": {},
          "execution_count": 14
        }
      ]
    },
    {
      "cell_type": "code",
      "metadata": {
        "colab": {
          "base_uri": "https://localhost:8080/"
        },
        "id": "eRDquW_DLeCx",
        "outputId": "dcbfd041-7163-4ffb-b482-52cb479acdc9"
      },
      "source": [
        "df['sex'].value_counts()"
      ],
      "execution_count": 15,
      "outputs": [
        {
          "output_type": "execute_result",
          "data": {
            "text/plain": [
              "Male      21790\n",
              "Female    10771\n",
              "Name: sex, dtype: int64"
            ]
          },
          "metadata": {},
          "execution_count": 15
        }
      ]
    },
    {
      "cell_type": "code",
      "metadata": {
        "colab": {
          "base_uri": "https://localhost:8080/"
        },
        "id": "brpjtdNCM2lf",
        "outputId": "f222f3b2-d329-437c-c17b-824a17c864e9"
      },
      "source": [
        "df['native.country'].value_counts().head(6)"
      ],
      "execution_count": 16,
      "outputs": [
        {
          "output_type": "execute_result",
          "data": {
            "text/plain": [
              "United-States    29170\n",
              "Mexico             643\n",
              "?                  583\n",
              "Philippines        198\n",
              "Germany            137\n",
              "Canada             121\n",
              "Name: native.country, dtype: int64"
            ]
          },
          "metadata": {},
          "execution_count": 16
        }
      ]
    },
    {
      "cell_type": "code",
      "metadata": {
        "colab": {
          "base_uri": "https://localhost:8080/"
        },
        "id": "GmFtPD-tLgoD",
        "outputId": "84a7edb7-7d8f-454e-a26e-2472ca60e274"
      },
      "source": [
        "df['native.country'].value_counts().sum()-df['native.country'].value_counts().head(6).sum()"
      ],
      "execution_count": 17,
      "outputs": [
        {
          "output_type": "execute_result",
          "data": {
            "text/plain": [
              "1709"
            ]
          },
          "metadata": {},
          "execution_count": 17
        }
      ]
    },
    {
      "cell_type": "code",
      "metadata": {
        "colab": {
          "base_uri": "https://localhost:8080/"
        },
        "id": "W_7bp5sSLwcm",
        "outputId": "4cbb9265-20b1-43f8-c142-b757cb40cb1a"
      },
      "source": [
        "df['income'].value_counts()"
      ],
      "execution_count": 18,
      "outputs": [
        {
          "output_type": "execute_result",
          "data": {
            "text/plain": [
              "<=50K    24720\n",
              ">50K      7841\n",
              "Name: income, dtype: int64"
            ]
          },
          "metadata": {},
          "execution_count": 18
        }
      ]
    },
    {
      "cell_type": "markdown",
      "metadata": {
        "id": "e-xta63pREf8"
      },
      "source": [
        "#### statistics"
      ]
    },
    {
      "cell_type": "code",
      "metadata": {
        "colab": {
          "base_uri": "https://localhost:8080/",
          "height": 234
        },
        "id": "gCCCt54gxKUw",
        "outputId": "867568fc-5668-4605-a5f4-bfcd0ad15853"
      },
      "source": [
        "# statistics summary\n",
        "df.describe().T"
      ],
      "execution_count": 19,
      "outputs": [
        {
          "output_type": "execute_result",
          "data": {
            "text/html": [
              "<div>\n",
              "<style scoped>\n",
              "    .dataframe tbody tr th:only-of-type {\n",
              "        vertical-align: middle;\n",
              "    }\n",
              "\n",
              "    .dataframe tbody tr th {\n",
              "        vertical-align: top;\n",
              "    }\n",
              "\n",
              "    .dataframe thead th {\n",
              "        text-align: right;\n",
              "    }\n",
              "</style>\n",
              "<table border=\"1\" class=\"dataframe\">\n",
              "  <thead>\n",
              "    <tr style=\"text-align: right;\">\n",
              "      <th></th>\n",
              "      <th>count</th>\n",
              "      <th>mean</th>\n",
              "      <th>std</th>\n",
              "      <th>min</th>\n",
              "      <th>25%</th>\n",
              "      <th>50%</th>\n",
              "      <th>75%</th>\n",
              "      <th>max</th>\n",
              "    </tr>\n",
              "  </thead>\n",
              "  <tbody>\n",
              "    <tr>\n",
              "      <th>age</th>\n",
              "      <td>32561.0</td>\n",
              "      <td>38.581647</td>\n",
              "      <td>13.640433</td>\n",
              "      <td>17.0</td>\n",
              "      <td>28.0</td>\n",
              "      <td>37.0</td>\n",
              "      <td>48.0</td>\n",
              "      <td>90.0</td>\n",
              "    </tr>\n",
              "    <tr>\n",
              "      <th>fnlwgt</th>\n",
              "      <td>32561.0</td>\n",
              "      <td>189778.366512</td>\n",
              "      <td>105549.977697</td>\n",
              "      <td>12285.0</td>\n",
              "      <td>117827.0</td>\n",
              "      <td>178356.0</td>\n",
              "      <td>237051.0</td>\n",
              "      <td>1484705.0</td>\n",
              "    </tr>\n",
              "    <tr>\n",
              "      <th>education.num</th>\n",
              "      <td>32561.0</td>\n",
              "      <td>10.080679</td>\n",
              "      <td>2.572720</td>\n",
              "      <td>1.0</td>\n",
              "      <td>9.0</td>\n",
              "      <td>10.0</td>\n",
              "      <td>12.0</td>\n",
              "      <td>16.0</td>\n",
              "    </tr>\n",
              "    <tr>\n",
              "      <th>capital.gain</th>\n",
              "      <td>32561.0</td>\n",
              "      <td>1077.648844</td>\n",
              "      <td>7385.292085</td>\n",
              "      <td>0.0</td>\n",
              "      <td>0.0</td>\n",
              "      <td>0.0</td>\n",
              "      <td>0.0</td>\n",
              "      <td>99999.0</td>\n",
              "    </tr>\n",
              "    <tr>\n",
              "      <th>capital.loss</th>\n",
              "      <td>32561.0</td>\n",
              "      <td>87.303830</td>\n",
              "      <td>402.960219</td>\n",
              "      <td>0.0</td>\n",
              "      <td>0.0</td>\n",
              "      <td>0.0</td>\n",
              "      <td>0.0</td>\n",
              "      <td>4356.0</td>\n",
              "    </tr>\n",
              "    <tr>\n",
              "      <th>hours.per.week</th>\n",
              "      <td>32561.0</td>\n",
              "      <td>40.437456</td>\n",
              "      <td>12.347429</td>\n",
              "      <td>1.0</td>\n",
              "      <td>40.0</td>\n",
              "      <td>40.0</td>\n",
              "      <td>45.0</td>\n",
              "      <td>99.0</td>\n",
              "    </tr>\n",
              "  </tbody>\n",
              "</table>\n",
              "</div>"
            ],
            "text/plain": [
              "                  count           mean  ...       75%        max\n",
              "age             32561.0      38.581647  ...      48.0       90.0\n",
              "fnlwgt          32561.0  189778.366512  ...  237051.0  1484705.0\n",
              "education.num   32561.0      10.080679  ...      12.0       16.0\n",
              "capital.gain    32561.0    1077.648844  ...       0.0    99999.0\n",
              "capital.loss    32561.0      87.303830  ...       0.0     4356.0\n",
              "hours.per.week  32561.0      40.437456  ...      45.0       99.0\n",
              "\n",
              "[6 rows x 8 columns]"
            ]
          },
          "metadata": {},
          "execution_count": 19
        }
      ]
    },
    {
      "cell_type": "code",
      "metadata": {
        "colab": {
          "base_uri": "https://localhost:8080/"
        },
        "id": "kvV6RGVhNDFB",
        "outputId": "f3483bae-1ed7-4f89-f921-d52d69163556"
      },
      "source": [
        "# check for '?' in dataset\n",
        "miss_value = df.isin(['?']).sum()\n",
        "miss_value"
      ],
      "execution_count": 20,
      "outputs": [
        {
          "output_type": "execute_result",
          "data": {
            "text/plain": [
              "age                  0\n",
              "workclass         1836\n",
              "fnlwgt               0\n",
              "education            0\n",
              "education.num        0\n",
              "marital.status       0\n",
              "occupation        1843\n",
              "relationship         0\n",
              "race                 0\n",
              "sex                  0\n",
              "capital.gain         0\n",
              "capital.loss         0\n",
              "hours.per.week       0\n",
              "native.country     583\n",
              "income               0\n",
              "dtype: int64"
            ]
          },
          "metadata": {},
          "execution_count": 20
        }
      ]
    },
    {
      "cell_type": "code",
      "metadata": {
        "colab": {
          "base_uri": "https://localhost:8080/"
        },
        "id": "AfhFobP_NcV-",
        "outputId": "ce91abba-8035-4753-a93c-69ac797f150a"
      },
      "source": [
        "miss_value = miss_value/df.shape[0]*100\n",
        "miss_value"
      ],
      "execution_count": 21,
      "outputs": [
        {
          "output_type": "execute_result",
          "data": {
            "text/plain": [
              "age               0.000000\n",
              "workclass         5.638647\n",
              "fnlwgt            0.000000\n",
              "education         0.000000\n",
              "education.num     0.000000\n",
              "marital.status    0.000000\n",
              "occupation        5.660146\n",
              "relationship      0.000000\n",
              "race              0.000000\n",
              "sex               0.000000\n",
              "capital.gain      0.000000\n",
              "capital.loss      0.000000\n",
              "hours.per.week    0.000000\n",
              "native.country    1.790486\n",
              "income            0.000000\n",
              "dtype: float64"
            ]
          },
          "metadata": {},
          "execution_count": 21
        }
      ]
    },
    {
      "cell_type": "code",
      "metadata": {
        "colab": {
          "base_uri": "https://localhost:8080/"
        },
        "id": "UCYHF0IlNtRP",
        "outputId": "c8dd4b23-7e71-4a22-f95b-2676df87788f"
      },
      "source": [
        "miss_value = miss_value.astype(str) + '%'\n",
        "miss_value"
      ],
      "execution_count": 22,
      "outputs": [
        {
          "output_type": "execute_result",
          "data": {
            "text/plain": [
              "age                              0.0%\n",
              "workclass          5.638647461687294%\n",
              "fnlwgt                           0.0%\n",
              "education                        0.0%\n",
              "education.num                    0.0%\n",
              "marital.status                   0.0%\n",
              "occupation         5.660145572924664%\n",
              "relationship                     0.0%\n",
              "race                             0.0%\n",
              "sex                              0.0%\n",
              "capital.gain                     0.0%\n",
              "capital.loss                     0.0%\n",
              "hours.per.week                   0.0%\n",
              "native.country    1.7904855501980899%\n",
              "income                           0.0%\n",
              "dtype: object"
            ]
          },
          "metadata": {},
          "execution_count": 22
        }
      ]
    },
    {
      "cell_type": "code",
      "metadata": {
        "colab": {
          "base_uri": "https://localhost:8080/"
        },
        "id": "wL6g6I4sOFst",
        "outputId": "175c73c9-79a8-4c0f-8b8e-e9970c369002"
      },
      "source": [
        "# checking % label \n",
        "income = df['income'].value_counts(normalize=True)\n",
        "income"
      ],
      "execution_count": 23,
      "outputs": [
        {
          "output_type": "execute_result",
          "data": {
            "text/plain": [
              "<=50K    0.75919\n",
              ">50K     0.24081\n",
              "Name: income, dtype: float64"
            ]
          },
          "metadata": {},
          "execution_count": 23
        }
      ]
    },
    {
      "cell_type": "code",
      "metadata": {
        "colab": {
          "base_uri": "https://localhost:8080/"
        },
        "id": "97RUrZJFOdHf",
        "outputId": "e71cc836-b74f-4141-fa96-633556a31064"
      },
      "source": [
        "income = round(income*100,2).astype(str) + \"%\"\n",
        "income"
      ],
      "execution_count": 24,
      "outputs": [
        {
          "output_type": "execute_result",
          "data": {
            "text/plain": [
              "<=50K    75.92%\n",
              ">50K     24.08%\n",
              "Name: income, dtype: object"
            ]
          },
          "metadata": {},
          "execution_count": 24
        }
      ]
    },
    {
      "cell_type": "markdown",
      "metadata": {
        "id": "hLIkG8uLRfCA"
      },
      "source": [
        "observations"
      ]
    },
    {
      "cell_type": "code",
      "metadata": {
        "id": "4V9jrjXqOvBS"
      },
      "source": [
        "# the dataset doesn't have any null values,but it contains missing value in the form of \"?\" which need to be preprocessed\n",
        "# the data is unballanced,as the dependent feature \"income\" contains 75.92 % values have income less than 50K and 24.08 % values have income  more than 50K"
      ],
      "execution_count": 25,
      "outputs": []
    },
    {
      "cell_type": "markdown",
      "metadata": {
        "id": "agFBa78FP-kI"
      },
      "source": [
        "### the exploratory data analyst : Univariate analysis"
      ]
    },
    {
      "cell_type": "code",
      "metadata": {
        "id": "LG8gV7rrP7Ws",
        "colab": {
          "base_uri": "https://localhost:8080/",
          "height": 334
        },
        "outputId": "8b9b402e-702b-4d0c-a882-b25df9ae32e2"
      },
      "source": [
        "# distribution plot for age\n",
        "age = df['age'].value_counts()\n",
        "plt.figure(figsize=(10,5))\n",
        "sns.histplot(df['age'],kde=True, stat=\"density\", linewidth=0 ,bins=20)\n",
        "plt.show()"
      ],
      "execution_count": 26,
      "outputs": [
        {
          "output_type": "display_data",
          "data": {
            "image/png": "[encoded data removed]",
            "text/plain": [
              "<Figure size 720x360 with 1 Axes>"
            ]
          },
          "metadata": {
            "needs_background": "light"
          }
        }
      ]
    },
    {
      "cell_type": "code",
      "metadata": {
        "colab": {
          "base_uri": "https://localhost:8080/",
          "height": 483
        },
        "id": "gpHQvUcTZVjP",
        "outputId": "16c6997a-da23-4b54-8af8-43951a61eb47"
      },
      "source": [
        "# barplot for year of education\n",
        "y_of_edu = df['education.num'].value_counts()\n",
        "plt.figure(figsize=(15,8))\n",
        "sns.barplot(x=y_of_edu.index,y=y_of_edu.values)\n",
        "plt.show()"
      ],
      "execution_count": 27,
      "outputs": [
        {
          "output_type": "display_data",
          "data": {
            "image/png": "[encoded data removed]",
            "text/plain": [
              "<Figure size 1080x576 with 1 Axes>"
            ]
          },
          "metadata": {
            "needs_background": "light"
          }
        }
      ]
    },
    {
      "cell_type": "code",
      "metadata": {
        "colab": {
          "base_uri": "https://localhost:8080/",
          "height": 391
        },
        "id": "fzsNbOHmbbg8",
        "outputId": "0f097312-f55c-4333-e429-c42021f5b525"
      },
      "source": [
        "# Tree map for race distribution\n",
        "!pip install squarify\n",
        "import squarify as sq\n",
        "race = df['race'].value_counts()\n",
        "plt.figure(figsize=(7,5))\n",
        "sq.plot(sizes=race.values,label=race.index,value=race.values)\n",
        "plt.show()"
      ],
      "execution_count": 28,
      "outputs": [
        {
          "output_type": "stream",
          "name": "stdout",
          "text": [
            "Collecting squarify\n",
            "  Downloading squarify-0.4.3-py3-none-any.whl (4.3 kB)\n",
            "Installing collected packages: squarify\n",
            "Successfully installed squarify-0.4.3\n"
          ]
        },
        {
          "output_type": "display_data",
          "data": {
            "image/png": "[encoded data removed]",
            "text/plain": [
              "<Figure size 504x360 with 1 Axes>"
            ]
          },
          "metadata": {
            "needs_background": "light"
          }
        }
      ]
    },
    {
      "cell_type": "code",
      "metadata": {
        "id": "puYrRI52dKTZ",
        "colab": {
          "base_uri": "https://localhost:8080/",
          "height": 428
        },
        "outputId": "54441ea4-0a39-4e51-f459-f9f5afa30e6c"
      },
      "source": [
        "#bar plot of house per week\n",
        "hours = df['hours.per.week'].value_counts().head(10)\n",
        "plt.figure(figsize=(15, 7))\n",
        "sns.barplot(x=hours.index, y=hours.values, palette='colorblind')\n",
        "plt.show()"
      ],
      "execution_count": 29,
      "outputs": [
        {
          "output_type": "display_data",
          "data": {
            "image/png": "[encoded data removed]",
            "text/plain": [
              "<Figure size 1080x504 with 1 Axes>"
            ]
          },
          "metadata": {
            "needs_background": "light"
          }
        }
      ]
    },
    {
      "cell_type": "code",
      "metadata": {
        "colab": {
          "base_uri": "https://localhost:8080/",
          "height": 541
        },
        "id": "pWgfhi6ZG-oK",
        "outputId": "a1be4aa0-d4ac-4ec5-b8d2-43d095652996"
      },
      "source": [
        "# Creating a countplot of income across age\n",
        "plt.style.use('default')\n",
        "plt.figure(figsize=(20, 7))\n",
        "sns.countplot(x=df['age'], hue=df['income'])\n",
        "plt.show()"
      ],
      "execution_count": 30,
      "outputs": [
        {
          "output_type": "display_data",
          "data": {
            "image/png": "[encoded data removed]",
            "text/plain": [
              "<Figure size 2000x700 with 1 Axes>"
            ]
          },
          "metadata": {}
        }
      ]
    },
    {
      "cell_type": "code",
      "metadata": {
        "colab": {
          "base_uri": "https://localhost:8080/",
          "height": 465
        },
        "id": "f3G3OKC6HZKE",
        "outputId": "4987279a-50f1-45dc-a07e-1301507d62f8"
      },
      "source": [
        "# Creating a countplot of income across age\n",
        "plt.style.use('default')\n",
        "plt.figure(figsize=(17, 5))\n",
        "sns.countplot(x=df['education.num'], hue=df['income'])\n",
        "plt.show()"
      ],
      "execution_count": 31,
      "outputs": [
        {
          "output_type": "display_data",
          "data": {
            "image/png": "[encoded data removed]",
            "text/plain": [
              "<Figure size 1700x500 with 1 Axes>"
            ]
          },
          "metadata": {}
        }
      ]
    },
    {
      "cell_type": "code",
      "metadata": {
        "colab": {
          "base_uri": "https://localhost:8080/"
        },
        "id": "VIMoKA-hYEZu",
        "outputId": "515cfd60-c888-4bd5-c292-1d803f7d4ff3"
      },
      "source": [
        "df['income']"
      ],
      "execution_count": 32,
      "outputs": [
        {
          "output_type": "execute_result",
          "data": {
            "text/plain": [
              "0        <=50K\n",
              "1        <=50K\n",
              "2        <=50K\n",
              "3        <=50K\n",
              "4        <=50K\n",
              "         ...  \n",
              "32556    <=50K\n",
              "32557    <=50K\n",
              "32558     >50K\n",
              "32559    <=50K\n",
              "32560    <=50K\n",
              "Name: income, Length: 32561, dtype: object"
            ]
          },
          "metadata": {},
          "execution_count": 32
        }
      ]
    },
    {
      "cell_type": "code",
      "metadata": {
        "id": "GVtBXbXSHymK"
      },
      "source": [
        "#corr = df.corr()\n",
        "#ax = sns.heatmap(corr, mask=mask, vmax=.3,annot=True)\n",
        "#plt.show()"
      ],
      "execution_count": 33,
      "outputs": []
    },
    {
      "cell_type": "code",
      "metadata": {
        "id": "yjYpLYb-iAgD"
      },
      "source": [
        "# Fixing '?' values in the dataset\n",
        "df = df.replace('?', np.nan)\n",
        "nan_cols = [i for i in df.columns if df[i].isnull().any()]\n",
        "for col in nan_cols:\n",
        "  df[col].fillna(df[col].mode()[0], inplace=True)"
      ],
      "execution_count": 34,
      "outputs": []
    },
    {
      "cell_type": "code",
      "metadata": {
        "id": "LfoaW4vjiQNV"
      },
      "source": [
        "# Label Encoding\n",
        "from sklearn.preprocessing import LabelEncoder\n",
        "for col in df.columns:\n",
        "  if df[col].dtypes == 'object':\n",
        "    encoder = LabelEncoder()\n",
        "    df[col] = encoder.fit_transform(df[col])"
      ],
      "execution_count": 35,
      "outputs": []
    },
    {
      "cell_type": "code",
      "metadata": {
        "id": "Vdm46-rPl2WZ"
      },
      "source": [
        "X = df.iloc[:, :-1]"
      ],
      "execution_count": 36,
      "outputs": []
    },
    {
      "cell_type": "code",
      "metadata": {
        "colab": {
          "base_uri": "https://localhost:8080/",
          "height": 203
        },
        "id": "rg1Ma1BPmG0H",
        "outputId": "3349a95e-744a-4fb5-feaa-2ec621ebd091"
      },
      "source": [
        "df.head()"
      ],
      "execution_count": 37,
      "outputs": [
        {
          "output_type": "execute_result",
          "data": {
            "text/html": [
              "<div>\n",
              "<style scoped>\n",
              "    .dataframe tbody tr th:only-of-type {\n",
              "        vertical-align: middle;\n",
              "    }\n",
              "\n",
              "    .dataframe tbody tr th {\n",
              "        vertical-align: top;\n",
              "    }\n",
              "\n",
              "    .dataframe thead th {\n",
              "        text-align: right;\n",
              "    }\n",
              "</style>\n",
              "<table border=\"1\" class=\"dataframe\">\n",
              "  <thead>\n",
              "    <tr style=\"text-align: right;\">\n",
              "      <th></th>\n",
              "      <th>age</th>\n",
              "      <th>workclass</th>\n",
              "      <th>fnlwgt</th>\n",
              "      <th>education</th>\n",
              "      <th>education.num</th>\n",
              "      <th>marital.status</th>\n",
              "      <th>occupation</th>\n",
              "      <th>relationship</th>\n",
              "      <th>race</th>\n",
              "      <th>sex</th>\n",
              "      <th>capital.gain</th>\n",
              "      <th>capital.loss</th>\n",
              "      <th>hours.per.week</th>\n",
              "      <th>native.country</th>\n",
              "      <th>income</th>\n",
              "    </tr>\n",
              "  </thead>\n",
              "  <tbody>\n",
              "    <tr>\n",
              "      <th>0</th>\n",
              "      <td>90</td>\n",
              "      <td>3</td>\n",
              "      <td>77053</td>\n",
              "      <td>11</td>\n",
              "      <td>9</td>\n",
              "      <td>6</td>\n",
              "      <td>9</td>\n",
              "      <td>1</td>\n",
              "      <td>4</td>\n",
              "      <td>0</td>\n",
              "      <td>0</td>\n",
              "      <td>4356</td>\n",
              "      <td>40</td>\n",
              "      <td>38</td>\n",
              "      <td>0</td>\n",
              "    </tr>\n",
              "    <tr>\n",
              "      <th>1</th>\n",
              "      <td>82</td>\n",
              "      <td>3</td>\n",
              "      <td>132870</td>\n",
              "      <td>11</td>\n",
              "      <td>9</td>\n",
              "      <td>6</td>\n",
              "      <td>3</td>\n",
              "      <td>1</td>\n",
              "      <td>4</td>\n",
              "      <td>0</td>\n",
              "      <td>0</td>\n",
              "      <td>4356</td>\n",
              "      <td>18</td>\n",
              "      <td>38</td>\n",
              "      <td>0</td>\n",
              "    </tr>\n",
              "    <tr>\n",
              "      <th>2</th>\n",
              "      <td>66</td>\n",
              "      <td>3</td>\n",
              "      <td>186061</td>\n",
              "      <td>15</td>\n",
              "      <td>10</td>\n",
              "      <td>6</td>\n",
              "      <td>9</td>\n",
              "      <td>4</td>\n",
              "      <td>2</td>\n",
              "      <td>0</td>\n",
              "      <td>0</td>\n",
              "      <td>4356</td>\n",
              "      <td>40</td>\n",
              "      <td>38</td>\n",
              "      <td>0</td>\n",
              "    </tr>\n",
              "    <tr>\n",
              "      <th>3</th>\n",
              "      <td>54</td>\n",
              "      <td>3</td>\n",
              "      <td>140359</td>\n",
              "      <td>5</td>\n",
              "      <td>4</td>\n",
              "      <td>0</td>\n",
              "      <td>6</td>\n",
              "      <td>4</td>\n",
              "      <td>4</td>\n",
              "      <td>0</td>\n",
              "      <td>0</td>\n",
              "      <td>3900</td>\n",
              "      <td>40</td>\n",
              "      <td>38</td>\n",
              "      <td>0</td>\n",
              "    </tr>\n",
              "    <tr>\n",
              "      <th>4</th>\n",
              "      <td>41</td>\n",
              "      <td>3</td>\n",
              "      <td>264663</td>\n",
              "      <td>15</td>\n",
              "      <td>10</td>\n",
              "      <td>5</td>\n",
              "      <td>9</td>\n",
              "      <td>3</td>\n",
              "      <td>4</td>\n",
              "      <td>0</td>\n",
              "      <td>0</td>\n",
              "      <td>3900</td>\n",
              "      <td>40</td>\n",
              "      <td>38</td>\n",
              "      <td>0</td>\n",
              "    </tr>\n",
              "  </tbody>\n",
              "</table>\n",
              "</div>"
            ],
            "text/plain": [
              "   age  workclass  fnlwgt  ...  hours.per.week  native.country  income\n",
              "0   90          3   77053  ...              40              38       0\n",
              "1   82          3  132870  ...              18              38       0\n",
              "2   66          3  186061  ...              40              38       0\n",
              "3   54          3  140359  ...              40              38       0\n",
              "4   41          3  264663  ...              40              38       0\n",
              "\n",
              "[5 rows x 15 columns]"
            ]
          },
          "metadata": {},
          "execution_count": 37
        }
      ]
    },
    {
      "cell_type": "code",
      "metadata": {
        "colab": {
          "base_uri": "https://localhost:8080/",
          "height": 203
        },
        "id": "r93he4FMmCuo",
        "outputId": "264952c8-e001-493e-ef27-7ec7873261ae"
      },
      "source": [
        "X.head()"
      ],
      "execution_count": 38,
      "outputs": [
        {
          "output_type": "execute_result",
          "data": {
            "text/html": [
              "<div>\n",
              "<style scoped>\n",
              "    .dataframe tbody tr th:only-of-type {\n",
              "        vertical-align: middle;\n",
              "    }\n",
              "\n",
              "    .dataframe tbody tr th {\n",
              "        vertical-align: top;\n",
              "    }\n",
              "\n",
              "    .dataframe thead th {\n",
              "        text-align: right;\n",
              "    }\n",
              "</style>\n",
              "<table border=\"1\" class=\"dataframe\">\n",
              "  <thead>\n",
              "    <tr style=\"text-align: right;\">\n",
              "      <th></th>\n",
              "      <th>age</th>\n",
              "      <th>workclass</th>\n",
              "      <th>fnlwgt</th>\n",
              "      <th>education</th>\n",
              "      <th>education.num</th>\n",
              "      <th>marital.status</th>\n",
              "      <th>occupation</th>\n",
              "      <th>relationship</th>\n",
              "      <th>race</th>\n",
              "      <th>sex</th>\n",
              "      <th>capital.gain</th>\n",
              "      <th>capital.loss</th>\n",
              "      <th>hours.per.week</th>\n",
              "      <th>native.country</th>\n",
              "    </tr>\n",
              "  </thead>\n",
              "  <tbody>\n",
              "    <tr>\n",
              "      <th>0</th>\n",
              "      <td>90</td>\n",
              "      <td>3</td>\n",
              "      <td>77053</td>\n",
              "      <td>11</td>\n",
              "      <td>9</td>\n",
              "      <td>6</td>\n",
              "      <td>9</td>\n",
              "      <td>1</td>\n",
              "      <td>4</td>\n",
              "      <td>0</td>\n",
              "      <td>0</td>\n",
              "      <td>4356</td>\n",
              "      <td>40</td>\n",
              "      <td>38</td>\n",
              "    </tr>\n",
              "    <tr>\n",
              "      <th>1</th>\n",
              "      <td>82</td>\n",
              "      <td>3</td>\n",
              "      <td>132870</td>\n",
              "      <td>11</td>\n",
              "      <td>9</td>\n",
              "      <td>6</td>\n",
              "      <td>3</td>\n",
              "      <td>1</td>\n",
              "      <td>4</td>\n",
              "      <td>0</td>\n",
              "      <td>0</td>\n",
              "      <td>4356</td>\n",
              "      <td>18</td>\n",
              "      <td>38</td>\n",
              "    </tr>\n",
              "    <tr>\n",
              "      <th>2</th>\n",
              "      <td>66</td>\n",
              "      <td>3</td>\n",
              "      <td>186061</td>\n",
              "      <td>15</td>\n",
              "      <td>10</td>\n",
              "      <td>6</td>\n",
              "      <td>9</td>\n",
              "      <td>4</td>\n",
              "      <td>2</td>\n",
              "      <td>0</td>\n",
              "      <td>0</td>\n",
              "      <td>4356</td>\n",
              "      <td>40</td>\n",
              "      <td>38</td>\n",
              "    </tr>\n",
              "    <tr>\n",
              "      <th>3</th>\n",
              "      <td>54</td>\n",
              "      <td>3</td>\n",
              "      <td>140359</td>\n",
              "      <td>5</td>\n",
              "      <td>4</td>\n",
              "      <td>0</td>\n",
              "      <td>6</td>\n",
              "      <td>4</td>\n",
              "      <td>4</td>\n",
              "      <td>0</td>\n",
              "      <td>0</td>\n",
              "      <td>3900</td>\n",
              "      <td>40</td>\n",
              "      <td>38</td>\n",
              "    </tr>\n",
              "    <tr>\n",
              "      <th>4</th>\n",
              "      <td>41</td>\n",
              "      <td>3</td>\n",
              "      <td>264663</td>\n",
              "      <td>15</td>\n",
              "      <td>10</td>\n",
              "      <td>5</td>\n",
              "      <td>9</td>\n",
              "      <td>3</td>\n",
              "      <td>4</td>\n",
              "      <td>0</td>\n",
              "      <td>0</td>\n",
              "      <td>3900</td>\n",
              "      <td>40</td>\n",
              "      <td>38</td>\n",
              "    </tr>\n",
              "  </tbody>\n",
              "</table>\n",
              "</div>"
            ],
            "text/plain": [
              "   age  workclass  fnlwgt  ...  capital.loss  hours.per.week  native.country\n",
              "0   90          3   77053  ...          4356              40              38\n",
              "1   82          3  132870  ...          4356              18              38\n",
              "2   66          3  186061  ...          4356              40              38\n",
              "3   54          3  140359  ...          3900              40              38\n",
              "4   41          3  264663  ...          3900              40              38\n",
              "\n",
              "[5 rows x 14 columns]"
            ]
          },
          "metadata": {},
          "execution_count": 38
        }
      ]
    },
    {
      "cell_type": "code",
      "metadata": {
        "id": "lsB1ycD2nhRn"
      },
      "source": [
        "Y = df[df.columns[-1:]]"
      ],
      "execution_count": 39,
      "outputs": []
    },
    {
      "cell_type": "code",
      "metadata": {
        "colab": {
          "base_uri": "https://localhost:8080/",
          "height": 417
        },
        "id": "NgKcd0Otpcc4",
        "outputId": "b411fa45-1ed0-4912-9ad4-1680e3aba50a"
      },
      "source": [
        "Y"
      ],
      "execution_count": 40,
      "outputs": [
        {
          "output_type": "execute_result",
          "data": {
            "text/html": [
              "<div>\n",
              "<style scoped>\n",
              "    .dataframe tbody tr th:only-of-type {\n",
              "        vertical-align: middle;\n",
              "    }\n",
              "\n",
              "    .dataframe tbody tr th {\n",
              "        vertical-align: top;\n",
              "    }\n",
              "\n",
              "    .dataframe thead th {\n",
              "        text-align: right;\n",
              "    }\n",
              "</style>\n",
              "<table border=\"1\" class=\"dataframe\">\n",
              "  <thead>\n",
              "    <tr style=\"text-align: right;\">\n",
              "      <th></th>\n",
              "      <th>income</th>\n",
              "    </tr>\n",
              "  </thead>\n",
              "  <tbody>\n",
              "    <tr>\n",
              "      <th>0</th>\n",
              "      <td>0</td>\n",
              "    </tr>\n",
              "    <tr>\n",
              "      <th>1</th>\n",
              "      <td>0</td>\n",
              "    </tr>\n",
              "    <tr>\n",
              "      <th>2</th>\n",
              "      <td>0</td>\n",
              "    </tr>\n",
              "    <tr>\n",
              "      <th>3</th>\n",
              "      <td>0</td>\n",
              "    </tr>\n",
              "    <tr>\n",
              "      <th>4</th>\n",
              "      <td>0</td>\n",
              "    </tr>\n",
              "    <tr>\n",
              "      <th>...</th>\n",
              "      <td>...</td>\n",
              "    </tr>\n",
              "    <tr>\n",
              "      <th>32556</th>\n",
              "      <td>0</td>\n",
              "    </tr>\n",
              "    <tr>\n",
              "      <th>32557</th>\n",
              "      <td>0</td>\n",
              "    </tr>\n",
              "    <tr>\n",
              "      <th>32558</th>\n",
              "      <td>1</td>\n",
              "    </tr>\n",
              "    <tr>\n",
              "      <th>32559</th>\n",
              "      <td>0</td>\n",
              "    </tr>\n",
              "    <tr>\n",
              "      <th>32560</th>\n",
              "      <td>0</td>\n",
              "    </tr>\n",
              "  </tbody>\n",
              "</table>\n",
              "<p>32561 rows × 1 columns</p>\n",
              "</div>"
            ],
            "text/plain": [
              "       income\n",
              "0           0\n",
              "1           0\n",
              "2           0\n",
              "3           0\n",
              "4           0\n",
              "...       ...\n",
              "32556       0\n",
              "32557       0\n",
              "32558       1\n",
              "32559       0\n",
              "32560       0\n",
              "\n",
              "[32561 rows x 1 columns]"
            ]
          },
          "metadata": {},
          "execution_count": 40
        }
      ]
    },
    {
      "cell_type": "code",
      "metadata": {
        "id": "V3c-kZYpiShT"
      },
      "source": [
        "# Feature Scaling\n",
        "from sklearn.preprocessing import StandardScaler\n",
        "for col in X.columns:\n",
        "  scaler = StandardScaler()\n",
        "  X[col] = scaler.fit_transform(X[col].values.reshape(-1, 1))"
      ],
      "execution_count": 41,
      "outputs": []
    },
    {
      "cell_type": "code",
      "metadata": {
        "colab": {
          "base_uri": "https://localhost:8080/"
        },
        "id": "RTdOPYkviYJl",
        "outputId": "2574b775-ab5b-4877-b884-7e6523486ec4"
      },
      "source": [
        "round(Y.value_counts(normalize=True) * 100, 2).astype(str) + \"%\""
      ],
      "execution_count": 42,
      "outputs": [
        {
          "output_type": "execute_result",
          "data": {
            "text/plain": [
              "income\n",
              "0         75.92%\n",
              "1         24.08%\n",
              "dtype: object"
            ]
          },
          "metadata": {},
          "execution_count": 42
        }
      ]
    },
    {
      "cell_type": "code",
      "metadata": {
        "colab": {
          "base_uri": "https://localhost:8080/"
        },
        "id": "dIRv_oLkoGpP",
        "outputId": "04338f29-6b12-4a47-da6c-cd769a07d15e"
      },
      "source": [
        "from imblearn.over_sampling import RandomOverSampler\n",
        "ros = RandomOverSampler(random_state=42)\n",
        "ros.fit(X,Y.values)"
      ],
      "execution_count": 43,
      "outputs": [
        {
          "output_type": "stream",
          "name": "stderr",
          "text": [
            "/usr/local/lib/python3.7/dist-packages/sklearn/externals/six.py:31: FutureWarning: The module is deprecated in version 0.21 and will be removed in version 0.23 since we've dropped support for Python 2.7. Please rely on the official version of six (https://pypi.org/project/six/).\n",
            "  \"(https://pypi.org/project/six/).\", FutureWarning)\n",
            "/usr/local/lib/python3.7/dist-packages/sklearn/utils/deprecation.py:144: FutureWarning: The sklearn.neighbors.base module is  deprecated in version 0.22 and will be removed in version 0.24. The corresponding classes / functions should instead be imported from sklearn.neighbors. Anything that cannot be imported from sklearn.neighbors is now part of the private API.\n",
            "  warnings.warn(message, FutureWarning)\n",
            "/usr/local/lib/python3.7/dist-packages/sklearn/utils/validation.py:760: DataConversionWarning: A column-vector y was passed when a 1d array was expected. Please change the shape of y to (n_samples, ), for example using ravel().\n",
            "  y = column_or_1d(y, warn=True)\n"
          ]
        },
        {
          "output_type": "execute_result",
          "data": {
            "text/plain": [
              "RandomOverSampler(random_state=42, ratio=None, return_indices=False,\n",
              "                  sampling_strategy='auto')"
            ]
          },
          "metadata": {},
          "execution_count": 43
        }
      ]
    },
    {
      "cell_type": "code",
      "metadata": {
        "colab": {
          "base_uri": "https://localhost:8080/"
        },
        "id": "4pfibOfSokVp",
        "outputId": "810d241c-dec9-4f57-84c7-0110e0b23cf4"
      },
      "source": [
        "X_resampled, Y_resampled = ros.fit_resample(X,Y.values)"
      ],
      "execution_count": 44,
      "outputs": [
        {
          "output_type": "stream",
          "name": "stderr",
          "text": [
            "/usr/local/lib/python3.7/dist-packages/sklearn/utils/validation.py:760: DataConversionWarning: A column-vector y was passed when a 1d array was expected. Please change the shape of y to (n_samples, ), for example using ravel().\n",
            "  y = column_or_1d(y, warn=True)\n",
            "/usr/local/lib/python3.7/dist-packages/sklearn/utils/deprecation.py:87: FutureWarning: Function safe_indexing is deprecated; safe_indexing is deprecated in version 0.22 and will be removed in version 0.24.\n",
            "  warnings.warn(msg, category=FutureWarning)\n"
          ]
        }
      ]
    },
    {
      "cell_type": "code",
      "metadata": {
        "id": "eCHDqouOpWaF"
      },
      "source": [
        "X_resampled = pd.DataFrame(X_resampled, columns=X.columns)"
      ],
      "execution_count": 45,
      "outputs": []
    },
    {
      "cell_type": "code",
      "metadata": {
        "colab": {
          "base_uri": "https://localhost:8080/"
        },
        "id": "l2AFPwzqtJYS",
        "outputId": "7148757e-ad76-41d3-8dc7-3f998dabf4dc"
      },
      "source": [
        "X_resampled.shape"
      ],
      "execution_count": 46,
      "outputs": [
        {
          "output_type": "execute_result",
          "data": {
            "text/plain": [
              "(49440, 14)"
            ]
          },
          "metadata": {},
          "execution_count": 46
        }
      ]
    },
    {
      "cell_type": "code",
      "metadata": {
        "colab": {
          "base_uri": "https://localhost:8080/",
          "height": 203
        },
        "id": "b5PTKZv0pUZy",
        "outputId": "866d87e8-b635-4dae-d54f-7f3231bad201"
      },
      "source": [
        "Y_resampled = pd.DataFrame(Y_resampled, columns=Y.columns)\n",
        "Y_resampled.head()"
      ],
      "execution_count": 47,
      "outputs": [
        {
          "output_type": "execute_result",
          "data": {
            "text/html": [
              "<div>\n",
              "<style scoped>\n",
              "    .dataframe tbody tr th:only-of-type {\n",
              "        vertical-align: middle;\n",
              "    }\n",
              "\n",
              "    .dataframe tbody tr th {\n",
              "        vertical-align: top;\n",
              "    }\n",
              "\n",
              "    .dataframe thead th {\n",
              "        text-align: right;\n",
              "    }\n",
              "</style>\n",
              "<table border=\"1\" class=\"dataframe\">\n",
              "  <thead>\n",
              "    <tr style=\"text-align: right;\">\n",
              "      <th></th>\n",
              "      <th>income</th>\n",
              "    </tr>\n",
              "  </thead>\n",
              "  <tbody>\n",
              "    <tr>\n",
              "      <th>0</th>\n",
              "      <td>0</td>\n",
              "    </tr>\n",
              "    <tr>\n",
              "      <th>1</th>\n",
              "      <td>0</td>\n",
              "    </tr>\n",
              "    <tr>\n",
              "      <th>2</th>\n",
              "      <td>0</td>\n",
              "    </tr>\n",
              "    <tr>\n",
              "      <th>3</th>\n",
              "      <td>0</td>\n",
              "    </tr>\n",
              "    <tr>\n",
              "      <th>4</th>\n",
              "      <td>0</td>\n",
              "    </tr>\n",
              "  </tbody>\n",
              "</table>\n",
              "</div>"
            ],
            "text/plain": [
              "   income\n",
              "0       0\n",
              "1       0\n",
              "2       0\n",
              "3       0\n",
              "4       0"
            ]
          },
          "metadata": {},
          "execution_count": 47
        }
      ]
    },
    {
      "cell_type": "code",
      "metadata": {
        "colab": {
          "base_uri": "https://localhost:8080/"
        },
        "id": "IIaulg0toxVI",
        "outputId": "ff23325e-f481-49c7-a1af-64aaaa53a465"
      },
      "source": [
        "round(Y_resampled.value_counts(normalize=True) * 100, 2).astype(str) + \"%\""
      ],
      "execution_count": 48,
      "outputs": [
        {
          "output_type": "execute_result",
          "data": {
            "text/plain": [
              "income\n",
              "1         50.0%\n",
              "0         50.0%\n",
              "dtype: object"
            ]
          },
          "metadata": {},
          "execution_count": 48
        }
      ]
    },
    {
      "cell_type": "markdown",
      "metadata": {
        "id": "9HtYeuX_tn5W"
      },
      "source": [
        "### train model"
      ]
    },
    {
      "cell_type": "code",
      "metadata": {
        "id": "s1H4JTzDtnFs"
      },
      "source": [
        "from sklearn.model_selection import train_test_split\n",
        "X_train, X_test, y_train, y_test = train_test_split(X_resampled,Y_resampled,test_size= 0.2,random_state=101)"
      ],
      "execution_count": 49,
      "outputs": []
    },
    {
      "cell_type": "code",
      "metadata": {
        "colab": {
          "base_uri": "https://localhost:8080/"
        },
        "id": "zHI-L9sXuErX",
        "outputId": "fe5c1374-1ee7-4e4a-cef3-18f3b153db8b"
      },
      "source": [
        "print(X_train.shape)\n",
        "print(X_test.shape)\n",
        "print(y_train.shape)\n",
        "print(y_test.shape)"
      ],
      "execution_count": 50,
      "outputs": [
        {
          "output_type": "stream",
          "name": "stdout",
          "text": [
            "(39552, 14)\n",
            "(9888, 14)\n",
            "(39552, 1)\n",
            "(9888, 1)\n"
          ]
        }
      ]
    },
    {
      "cell_type": "markdown",
      "metadata": {
        "id": "zAYeUIr7KAMy"
      },
      "source": [
        "logistic regression"
      ]
    },
    {
      "cell_type": "code",
      "metadata": {
        "id": "Oeip0CX3usUQ"
      },
      "source": [
        "from sklearn.linear_model import LogisticRegression\n",
        "log_reg = LogisticRegression(random_state=101)"
      ],
      "execution_count": 52,
      "outputs": []
    },
    {
      "cell_type": "code",
      "metadata": {
        "colab": {
          "base_uri": "https://localhost:8080/"
        },
        "id": "4h4lXQItLjbH",
        "outputId": "bc8ad035-ffbe-443f-b994-2a26dcc5a613"
      },
      "source": [
        "log_reg.fit(X_train,y_train)"
      ],
      "execution_count": 54,
      "outputs": [
        {
          "output_type": "stream",
          "name": "stderr",
          "text": [
            "/usr/local/lib/python3.7/dist-packages/sklearn/utils/validation.py:760: DataConversionWarning: A column-vector y was passed when a 1d array was expected. Please change the shape of y to (n_samples, ), for example using ravel().\n",
            "  y = column_or_1d(y, warn=True)\n"
          ]
        },
        {
          "output_type": "execute_result",
          "data": {
            "text/plain": [
              "LogisticRegression(C=1.0, class_weight=None, dual=False, fit_intercept=True,\n",
              "                   intercept_scaling=1, l1_ratio=None, max_iter=100,\n",
              "                   multi_class='auto', n_jobs=None, penalty='l2',\n",
              "                   random_state=101, solver='lbfgs', tol=0.0001, verbose=0,\n",
              "                   warm_start=False)"
            ]
          },
          "metadata": {},
          "execution_count": 54
        }
      ]
    },
    {
      "cell_type": "code",
      "metadata": {
        "id": "7Lt8wzVoKjqk"
      },
      "source": [
        "y_pred_log_reg = log_reg.predict(X_test)"
      ],
      "execution_count": 62,
      "outputs": []
    },
    {
      "cell_type": "markdown",
      "metadata": {
        "id": "DVemHpOCKqCd"
      },
      "source": [
        "KNN classifier"
      ]
    },
    {
      "cell_type": "code",
      "metadata": {
        "colab": {
          "base_uri": "https://localhost:8080/"
        },
        "id": "kAHSNy03KuDt",
        "outputId": "dfb89eb1-221d-4633-e947-8e01e62ffc65"
      },
      "source": [
        "from sklearn.neighbors import KNeighborsClassifier\n",
        "knn = KNeighborsClassifier()\n",
        "knn.fit(X_train,y_train)"
      ],
      "execution_count": 60,
      "outputs": [
        {
          "output_type": "stream",
          "name": "stderr",
          "text": [
            "/usr/local/lib/python3.7/dist-packages/ipykernel_launcher.py:3: DataConversionWarning: A column-vector y was passed when a 1d array was expected. Please change the shape of y to (n_samples, ), for example using ravel().\n",
            "  This is separate from the ipykernel package so we can avoid doing imports until\n"
          ]
        },
        {
          "output_type": "execute_result",
          "data": {
            "text/plain": [
              "KNeighborsClassifier(algorithm='auto', leaf_size=30, metric='minkowski',\n",
              "                     metric_params=None, n_jobs=None, n_neighbors=5, p=2,\n",
              "                     weights='uniform')"
            ]
          },
          "metadata": {},
          "execution_count": 60
        }
      ]
    },
    {
      "cell_type": "code",
      "metadata": {
        "id": "SZtChXviLIdn"
      },
      "source": [
        "y_pred_knn = knn.predict(X_test)"
      ],
      "execution_count": 63,
      "outputs": []
    },
    {
      "cell_type": "code",
      "metadata": {
        "id": "FYR7rcGkMN54"
      },
      "source": [
        "from sklearn.metrics import accuracy_score\n",
        "from sklearn.metrics import f1_score"
      ],
      "execution_count": 64,
      "outputs": []
    },
    {
      "cell_type": "code",
      "metadata": {
        "colab": {
          "base_uri": "https://localhost:8080/"
        },
        "id": "zr9L-ZFgMYww",
        "outputId": "0c5fbb2a-9aee-4ab9-cdba-9f370d18c8a2"
      },
      "source": [
        "print(\"LogisticRegression\")\n",
        "print(\"accuracy\",round(accuracy_score(y_test,y_pred_log_reg)*100,2))\n",
        "print(\"f1\",round(f1_score(y_test,y_pred_log_reg)*100,2))"
      ],
      "execution_count": 65,
      "outputs": [
        {
          "output_type": "stream",
          "name": "stdout",
          "text": [
            "LogisticRegression\n",
            "accuracy 76.8\n",
            "f1 76.63\n"
          ]
        }
      ]
    },
    {
      "cell_type": "code",
      "metadata": {
        "colab": {
          "base_uri": "https://localhost:8080/"
        },
        "id": "SMrE2xYrM9uW",
        "outputId": "4dc087be-ff60-490c-e9c5-37e05136cdb9"
      },
      "source": [
        "print(\"KNeighborsClassifier\")\n",
        "print(\"accuracy\",round(accuracy_score(y_test,y_pred_knn)*100,2))\n",
        "print(\"f1\",round(f1_score(y_test,y_pred_knn)*100,2))"
      ],
      "execution_count": 66,
      "outputs": [
        {
          "output_type": "stream",
          "name": "stdout",
          "text": [
            "KNeighborsClassifier\n",
            "accuracy 83.68\n",
            "f1 84.6\n"
          ]
        }
      ]
    }
  ]
}